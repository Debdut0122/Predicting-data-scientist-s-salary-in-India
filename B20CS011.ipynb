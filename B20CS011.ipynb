{
  "nbformat": 4,
  "nbformat_minor": 0,
  "metadata": {
    "colab": {
      "name": "B20CS011.ipynb",
      "provenance": [],
      "collapsed_sections": []
    },
    "kernelspec": {
      "name": "python3",
      "display_name": "Python 3"
    },
    "language_info": {
      "name": "python"
    }
  },
  "cells": [
    {
      "cell_type": "code",
      "source": [
        "from google.colab import drive\n",
        "drive.mount('/content/drive')"
      ],
      "metadata": {
        "colab": {
          "base_uri": "https://localhost:8080/"
        },
        "id": "D5u9L8L_oB80",
        "outputId": "9477f8aa-8ffc-4f3b-f128-68e06ac0f707"
      },
      "execution_count": 271,
      "outputs": [
        {
          "output_type": "stream",
          "name": "stdout",
          "text": [
            "Drive already mounted at /content/drive; to attempt to forcibly remount, call drive.mount(\"/content/drive\", force_remount=True).\n"
          ]
        }
      ]
    },
    {
      "cell_type": "code",
      "source": [
        "import pandas as pd\n",
        "import numpy as np"
      ],
      "metadata": {
        "id": "alIBBJMVoJEC"
      },
      "execution_count": 272,
      "outputs": []
    },
    {
      "cell_type": "code",
      "source": [
        "dataset = pd.read_csv('/content/drive/MyDrive/PRML LAB DATASETS/SalaryDataset/Dataset.csv')"
      ],
      "metadata": {
        "id": "8vQO5kWRobh-"
      },
      "execution_count": 273,
      "outputs": []
    },
    {
      "cell_type": "code",
      "source": [
        "dataset.head(1)"
      ],
      "metadata": {
        "colab": {
          "base_uri": "https://localhost:8080/",
          "height": 177
        },
        "id": "Thp1mdfzoj36",
        "outputId": "4ba18135-be39-40b6-d9e3-5a34e6004deb"
      },
      "execution_count": 274,
      "outputs": [
        {
          "output_type": "execute_result",
          "data": {
            "text/plain": [
              "   Unnamed: 0 experience                                    job_description  \\\n",
              "0           0    5-7 yrs  Exp: Minimum 5 years;Good understanding of IOC...   \n",
              "\n",
              "                                     job_desig job_type  \\\n",
              "0  Senior Exploit and Vulnerability Researcher      NaN   \n",
              "\n",
              "                                          key_skills               location  \\\n",
              "0  team skills, communication skills, analytical ...  Delhi NCR(Vikas Puri)   \n",
              "\n",
              "  salary  company_name_encoded  \n",
              "0  6to10                  3687  "
            ],
            "text/html": [
              "\n",
              "  <div id=\"df-b212da9f-9167-4a3b-9421-30be5fae0644\">\n",
              "    <div class=\"colab-df-container\">\n",
              "      <div>\n",
              "<style scoped>\n",
              "    .dataframe tbody tr th:only-of-type {\n",
              "        vertical-align: middle;\n",
              "    }\n",
              "\n",
              "    .dataframe tbody tr th {\n",
              "        vertical-align: top;\n",
              "    }\n",
              "\n",
              "    .dataframe thead th {\n",
              "        text-align: right;\n",
              "    }\n",
              "</style>\n",
              "<table border=\"1\" class=\"dataframe\">\n",
              "  <thead>\n",
              "    <tr style=\"text-align: right;\">\n",
              "      <th></th>\n",
              "      <th>Unnamed: 0</th>\n",
              "      <th>experience</th>\n",
              "      <th>job_description</th>\n",
              "      <th>job_desig</th>\n",
              "      <th>job_type</th>\n",
              "      <th>key_skills</th>\n",
              "      <th>location</th>\n",
              "      <th>salary</th>\n",
              "      <th>company_name_encoded</th>\n",
              "    </tr>\n",
              "  </thead>\n",
              "  <tbody>\n",
              "    <tr>\n",
              "      <th>0</th>\n",
              "      <td>0</td>\n",
              "      <td>5-7 yrs</td>\n",
              "      <td>Exp: Minimum 5 years;Good understanding of IOC...</td>\n",
              "      <td>Senior Exploit and Vulnerability Researcher</td>\n",
              "      <td>NaN</td>\n",
              "      <td>team skills, communication skills, analytical ...</td>\n",
              "      <td>Delhi NCR(Vikas Puri)</td>\n",
              "      <td>6to10</td>\n",
              "      <td>3687</td>\n",
              "    </tr>\n",
              "  </tbody>\n",
              "</table>\n",
              "</div>\n",
              "      <button class=\"colab-df-convert\" onclick=\"convertToInteractive('df-b212da9f-9167-4a3b-9421-30be5fae0644')\"\n",
              "              title=\"Convert this dataframe to an interactive table.\"\n",
              "              style=\"display:none;\">\n",
              "        \n",
              "  <svg xmlns=\"http://www.w3.org/2000/svg\" height=\"24px\"viewBox=\"0 0 24 24\"\n",
              "       width=\"24px\">\n",
              "    <path d=\"M0 0h24v24H0V0z\" fill=\"none\"/>\n",
              "    <path d=\"M18.56 5.44l.94 2.06.94-2.06 2.06-.94-2.06-.94-.94-2.06-.94 2.06-2.06.94zm-11 1L8.5 8.5l.94-2.06 2.06-.94-2.06-.94L8.5 2.5l-.94 2.06-2.06.94zm10 10l.94 2.06.94-2.06 2.06-.94-2.06-.94-.94-2.06-.94 2.06-2.06.94z\"/><path d=\"M17.41 7.96l-1.37-1.37c-.4-.4-.92-.59-1.43-.59-.52 0-1.04.2-1.43.59L10.3 9.45l-7.72 7.72c-.78.78-.78 2.05 0 2.83L4 21.41c.39.39.9.59 1.41.59.51 0 1.02-.2 1.41-.59l7.78-7.78 2.81-2.81c.8-.78.8-2.07 0-2.86zM5.41 20L4 18.59l7.72-7.72 1.47 1.35L5.41 20z\"/>\n",
              "  </svg>\n",
              "      </button>\n",
              "      \n",
              "  <style>\n",
              "    .colab-df-container {\n",
              "      display:flex;\n",
              "      flex-wrap:wrap;\n",
              "      gap: 12px;\n",
              "    }\n",
              "\n",
              "    .colab-df-convert {\n",
              "      background-color: #E8F0FE;\n",
              "      border: none;\n",
              "      border-radius: 50%;\n",
              "      cursor: pointer;\n",
              "      display: none;\n",
              "      fill: #1967D2;\n",
              "      height: 32px;\n",
              "      padding: 0 0 0 0;\n",
              "      width: 32px;\n",
              "    }\n",
              "\n",
              "    .colab-df-convert:hover {\n",
              "      background-color: #E2EBFA;\n",
              "      box-shadow: 0px 1px 2px rgba(60, 64, 67, 0.3), 0px 1px 3px 1px rgba(60, 64, 67, 0.15);\n",
              "      fill: #174EA6;\n",
              "    }\n",
              "\n",
              "    [theme=dark] .colab-df-convert {\n",
              "      background-color: #3B4455;\n",
              "      fill: #D2E3FC;\n",
              "    }\n",
              "\n",
              "    [theme=dark] .colab-df-convert:hover {\n",
              "      background-color: #434B5C;\n",
              "      box-shadow: 0px 1px 3px 1px rgba(0, 0, 0, 0.15);\n",
              "      filter: drop-shadow(0px 1px 2px rgba(0, 0, 0, 0.3));\n",
              "      fill: #FFFFFF;\n",
              "    }\n",
              "  </style>\n",
              "\n",
              "      <script>\n",
              "        const buttonEl =\n",
              "          document.querySelector('#df-b212da9f-9167-4a3b-9421-30be5fae0644 button.colab-df-convert');\n",
              "        buttonEl.style.display =\n",
              "          google.colab.kernel.accessAllowed ? 'block' : 'none';\n",
              "\n",
              "        async function convertToInteractive(key) {\n",
              "          const element = document.querySelector('#df-b212da9f-9167-4a3b-9421-30be5fae0644');\n",
              "          const dataTable =\n",
              "            await google.colab.kernel.invokeFunction('convertToInteractive',\n",
              "                                                     [key], {});\n",
              "          if (!dataTable) return;\n",
              "\n",
              "          const docLinkHtml = 'Like what you see? Visit the ' +\n",
              "            '<a target=\"_blank\" href=https://colab.research.google.com/notebooks/data_table.ipynb>data table notebook</a>'\n",
              "            + ' to learn more about interactive tables.';\n",
              "          element.innerHTML = '';\n",
              "          dataTable['output_type'] = 'display_data';\n",
              "          await google.colab.output.renderOutput(dataTable, element);\n",
              "          const docLink = document.createElement('div');\n",
              "          docLink.innerHTML = docLinkHtml;\n",
              "          element.appendChild(docLink);\n",
              "        }\n",
              "      </script>\n",
              "    </div>\n",
              "  </div>\n",
              "  "
            ]
          },
          "metadata": {},
          "execution_count": 274
        }
      ]
    },
    {
      "cell_type": "markdown",
      "source": [
        "## Preprocessing"
      ],
      "metadata": {
        "id": "pS61TUuXWZgF"
      }
    },
    {
      "cell_type": "code",
      "source": [
        "dataset.drop(columns = [\"Unnamed: 0\"],inplace=True)\n",
        "dataset.head(4)"
      ],
      "metadata": {
        "colab": {
          "base_uri": "https://localhost:8080/",
          "height": 340
        },
        "id": "gFIDygiPpDW0",
        "outputId": "ae8eda3e-17f5-4285-a6cf-71a7ab8c79f1"
      },
      "execution_count": 275,
      "outputs": [
        {
          "output_type": "execute_result",
          "data": {
            "text/plain": [
              "  experience                                    job_description  \\\n",
              "0    5-7 yrs  Exp: Minimum 5 years;Good understanding of IOC...   \n",
              "1  10-17 yrs  He should have handled a team of atleast 5-6 d...   \n",
              "2    5-9 yrs  Must be an effective communicator (written & s...   \n",
              "3   7-10 yrs  7  -  10 years of overall experience in data e...   \n",
              "\n",
              "                                           job_desig   job_type  \\\n",
              "0        Senior Exploit and Vulnerability Researcher        NaN   \n",
              "1                                           Head SCM        NaN   \n",
              "2  Deputy Manager - Talent Management & Leadershi...  Analytics   \n",
              "3                 Associate Manager Data Engineering  Analytics   \n",
              "\n",
              "                                          key_skills               location  \\\n",
              "0  team skills, communication skills, analytical ...  Delhi NCR(Vikas Puri)   \n",
              "1  ppc, logistics, inventory management, supply c...                Sonepat   \n",
              "2  HR Analytics, Employee Engagement, Training, S...              Delhi NCR   \n",
              "3  SQL, Javascript, Automation, Python, Ruby, Ana...              Bengaluru   \n",
              "\n",
              "   salary  company_name_encoded  \n",
              "0   6to10                  3687  \n",
              "1  10to15                   458  \n",
              "2  15to25                  4195  \n",
              "3  10to15                   313  "
            ],
            "text/html": [
              "\n",
              "  <div id=\"df-b47e88c3-8ba9-4804-8f7b-866109ff93be\">\n",
              "    <div class=\"colab-df-container\">\n",
              "      <div>\n",
              "<style scoped>\n",
              "    .dataframe tbody tr th:only-of-type {\n",
              "        vertical-align: middle;\n",
              "    }\n",
              "\n",
              "    .dataframe tbody tr th {\n",
              "        vertical-align: top;\n",
              "    }\n",
              "\n",
              "    .dataframe thead th {\n",
              "        text-align: right;\n",
              "    }\n",
              "</style>\n",
              "<table border=\"1\" class=\"dataframe\">\n",
              "  <thead>\n",
              "    <tr style=\"text-align: right;\">\n",
              "      <th></th>\n",
              "      <th>experience</th>\n",
              "      <th>job_description</th>\n",
              "      <th>job_desig</th>\n",
              "      <th>job_type</th>\n",
              "      <th>key_skills</th>\n",
              "      <th>location</th>\n",
              "      <th>salary</th>\n",
              "      <th>company_name_encoded</th>\n",
              "    </tr>\n",
              "  </thead>\n",
              "  <tbody>\n",
              "    <tr>\n",
              "      <th>0</th>\n",
              "      <td>5-7 yrs</td>\n",
              "      <td>Exp: Minimum 5 years;Good understanding of IOC...</td>\n",
              "      <td>Senior Exploit and Vulnerability Researcher</td>\n",
              "      <td>NaN</td>\n",
              "      <td>team skills, communication skills, analytical ...</td>\n",
              "      <td>Delhi NCR(Vikas Puri)</td>\n",
              "      <td>6to10</td>\n",
              "      <td>3687</td>\n",
              "    </tr>\n",
              "    <tr>\n",
              "      <th>1</th>\n",
              "      <td>10-17 yrs</td>\n",
              "      <td>He should have handled a team of atleast 5-6 d...</td>\n",
              "      <td>Head SCM</td>\n",
              "      <td>NaN</td>\n",
              "      <td>ppc, logistics, inventory management, supply c...</td>\n",
              "      <td>Sonepat</td>\n",
              "      <td>10to15</td>\n",
              "      <td>458</td>\n",
              "    </tr>\n",
              "    <tr>\n",
              "      <th>2</th>\n",
              "      <td>5-9 yrs</td>\n",
              "      <td>Must be an effective communicator (written &amp; s...</td>\n",
              "      <td>Deputy Manager - Talent Management &amp; Leadershi...</td>\n",
              "      <td>Analytics</td>\n",
              "      <td>HR Analytics, Employee Engagement, Training, S...</td>\n",
              "      <td>Delhi NCR</td>\n",
              "      <td>15to25</td>\n",
              "      <td>4195</td>\n",
              "    </tr>\n",
              "    <tr>\n",
              "      <th>3</th>\n",
              "      <td>7-10 yrs</td>\n",
              "      <td>7  -  10 years of overall experience in data e...</td>\n",
              "      <td>Associate Manager Data Engineering</td>\n",
              "      <td>Analytics</td>\n",
              "      <td>SQL, Javascript, Automation, Python, Ruby, Ana...</td>\n",
              "      <td>Bengaluru</td>\n",
              "      <td>10to15</td>\n",
              "      <td>313</td>\n",
              "    </tr>\n",
              "  </tbody>\n",
              "</table>\n",
              "</div>\n",
              "      <button class=\"colab-df-convert\" onclick=\"convertToInteractive('df-b47e88c3-8ba9-4804-8f7b-866109ff93be')\"\n",
              "              title=\"Convert this dataframe to an interactive table.\"\n",
              "              style=\"display:none;\">\n",
              "        \n",
              "  <svg xmlns=\"http://www.w3.org/2000/svg\" height=\"24px\"viewBox=\"0 0 24 24\"\n",
              "       width=\"24px\">\n",
              "    <path d=\"M0 0h24v24H0V0z\" fill=\"none\"/>\n",
              "    <path d=\"M18.56 5.44l.94 2.06.94-2.06 2.06-.94-2.06-.94-.94-2.06-.94 2.06-2.06.94zm-11 1L8.5 8.5l.94-2.06 2.06-.94-2.06-.94L8.5 2.5l-.94 2.06-2.06.94zm10 10l.94 2.06.94-2.06 2.06-.94-2.06-.94-.94-2.06-.94 2.06-2.06.94z\"/><path d=\"M17.41 7.96l-1.37-1.37c-.4-.4-.92-.59-1.43-.59-.52 0-1.04.2-1.43.59L10.3 9.45l-7.72 7.72c-.78.78-.78 2.05 0 2.83L4 21.41c.39.39.9.59 1.41.59.51 0 1.02-.2 1.41-.59l7.78-7.78 2.81-2.81c.8-.78.8-2.07 0-2.86zM5.41 20L4 18.59l7.72-7.72 1.47 1.35L5.41 20z\"/>\n",
              "  </svg>\n",
              "      </button>\n",
              "      \n",
              "  <style>\n",
              "    .colab-df-container {\n",
              "      display:flex;\n",
              "      flex-wrap:wrap;\n",
              "      gap: 12px;\n",
              "    }\n",
              "\n",
              "    .colab-df-convert {\n",
              "      background-color: #E8F0FE;\n",
              "      border: none;\n",
              "      border-radius: 50%;\n",
              "      cursor: pointer;\n",
              "      display: none;\n",
              "      fill: #1967D2;\n",
              "      height: 32px;\n",
              "      padding: 0 0 0 0;\n",
              "      width: 32px;\n",
              "    }\n",
              "\n",
              "    .colab-df-convert:hover {\n",
              "      background-color: #E2EBFA;\n",
              "      box-shadow: 0px 1px 2px rgba(60, 64, 67, 0.3), 0px 1px 3px 1px rgba(60, 64, 67, 0.15);\n",
              "      fill: #174EA6;\n",
              "    }\n",
              "\n",
              "    [theme=dark] .colab-df-convert {\n",
              "      background-color: #3B4455;\n",
              "      fill: #D2E3FC;\n",
              "    }\n",
              "\n",
              "    [theme=dark] .colab-df-convert:hover {\n",
              "      background-color: #434B5C;\n",
              "      box-shadow: 0px 1px 3px 1px rgba(0, 0, 0, 0.15);\n",
              "      filter: drop-shadow(0px 1px 2px rgba(0, 0, 0, 0.3));\n",
              "      fill: #FFFFFF;\n",
              "    }\n",
              "  </style>\n",
              "\n",
              "      <script>\n",
              "        const buttonEl =\n",
              "          document.querySelector('#df-b47e88c3-8ba9-4804-8f7b-866109ff93be button.colab-df-convert');\n",
              "        buttonEl.style.display =\n",
              "          google.colab.kernel.accessAllowed ? 'block' : 'none';\n",
              "\n",
              "        async function convertToInteractive(key) {\n",
              "          const element = document.querySelector('#df-b47e88c3-8ba9-4804-8f7b-866109ff93be');\n",
              "          const dataTable =\n",
              "            await google.colab.kernel.invokeFunction('convertToInteractive',\n",
              "                                                     [key], {});\n",
              "          if (!dataTable) return;\n",
              "\n",
              "          const docLinkHtml = 'Like what you see? Visit the ' +\n",
              "            '<a target=\"_blank\" href=https://colab.research.google.com/notebooks/data_table.ipynb>data table notebook</a>'\n",
              "            + ' to learn more about interactive tables.';\n",
              "          element.innerHTML = '';\n",
              "          dataTable['output_type'] = 'display_data';\n",
              "          await google.colab.output.renderOutput(dataTable, element);\n",
              "          const docLink = document.createElement('div');\n",
              "          docLink.innerHTML = docLinkHtml;\n",
              "          element.appendChild(docLink);\n",
              "        }\n",
              "      </script>\n",
              "    </div>\n",
              "  </div>\n",
              "  "
            ]
          },
          "metadata": {},
          "execution_count": 275
        }
      ]
    },
    {
      "cell_type": "code",
      "source": [
        "dataset.info()"
      ],
      "metadata": {
        "colab": {
          "base_uri": "https://localhost:8080/"
        },
        "id": "jn7bwjrXpLlf",
        "outputId": "70afd8e2-9d14-427e-f033-d7e12541b6b9"
      },
      "execution_count": 276,
      "outputs": [
        {
          "output_type": "stream",
          "name": "stdout",
          "text": [
            "<class 'pandas.core.frame.DataFrame'>\n",
            "RangeIndex: 19802 entries, 0 to 19801\n",
            "Data columns (total 8 columns):\n",
            " #   Column                Non-Null Count  Dtype \n",
            "---  ------                --------------  ----- \n",
            " 0   experience            19802 non-null  object\n",
            " 1   job_description       15384 non-null  object\n",
            " 2   job_desig             19802 non-null  object\n",
            " 3   job_type              4797 non-null   object\n",
            " 4   key_skills            19801 non-null  object\n",
            " 5   location              19802 non-null  object\n",
            " 6   salary                19802 non-null  object\n",
            " 7   company_name_encoded  19802 non-null  int64 \n",
            "dtypes: int64(1), object(7)\n",
            "memory usage: 1.2+ MB\n"
          ]
        }
      ]
    },
    {
      "cell_type": "markdown",
      "source": [
        "\n",
        "\n",
        "*   job_description contains missing values but can be imputed\n",
        "*   job_type contains most of the values missing, so drop that column\n",
        "\n"
      ],
      "metadata": {
        "id": "BhQYAsR0pnuv"
      }
    },
    {
      "cell_type": "code",
      "source": [
        "dataset.drop(columns = [\"job_type\"],inplace = True)"
      ],
      "metadata": {
        "id": "RTA2HYwapm9j"
      },
      "execution_count": 277,
      "outputs": []
    },
    {
      "cell_type": "code",
      "source": [
        "dataset['job_description'].fillna('missing', inplace=True)\n",
        "dataset.dropna(axis=0,inplace=True)"
      ],
      "metadata": {
        "id": "sfwObaUVqWpY"
      },
      "execution_count": 278,
      "outputs": []
    },
    {
      "cell_type": "code",
      "source": [
        "dataset.head(2)"
      ],
      "metadata": {
        "colab": {
          "base_uri": "https://localhost:8080/",
          "height": 208
        },
        "id": "RymFc8JpqaHM",
        "outputId": "241d289c-02eb-436d-e1ec-073468baa9cd"
      },
      "execution_count": 279,
      "outputs": [
        {
          "output_type": "execute_result",
          "data": {
            "text/plain": [
              "  experience                                    job_description  \\\n",
              "0    5-7 yrs  Exp: Minimum 5 years;Good understanding of IOC...   \n",
              "1  10-17 yrs  He should have handled a team of atleast 5-6 d...   \n",
              "\n",
              "                                     job_desig  \\\n",
              "0  Senior Exploit and Vulnerability Researcher   \n",
              "1                                     Head SCM   \n",
              "\n",
              "                                          key_skills               location  \\\n",
              "0  team skills, communication skills, analytical ...  Delhi NCR(Vikas Puri)   \n",
              "1  ppc, logistics, inventory management, supply c...                Sonepat   \n",
              "\n",
              "   salary  company_name_encoded  \n",
              "0   6to10                  3687  \n",
              "1  10to15                   458  "
            ],
            "text/html": [
              "\n",
              "  <div id=\"df-ddb1ebcf-188f-42d8-8671-87b3b6a7503d\">\n",
              "    <div class=\"colab-df-container\">\n",
              "      <div>\n",
              "<style scoped>\n",
              "    .dataframe tbody tr th:only-of-type {\n",
              "        vertical-align: middle;\n",
              "    }\n",
              "\n",
              "    .dataframe tbody tr th {\n",
              "        vertical-align: top;\n",
              "    }\n",
              "\n",
              "    .dataframe thead th {\n",
              "        text-align: right;\n",
              "    }\n",
              "</style>\n",
              "<table border=\"1\" class=\"dataframe\">\n",
              "  <thead>\n",
              "    <tr style=\"text-align: right;\">\n",
              "      <th></th>\n",
              "      <th>experience</th>\n",
              "      <th>job_description</th>\n",
              "      <th>job_desig</th>\n",
              "      <th>key_skills</th>\n",
              "      <th>location</th>\n",
              "      <th>salary</th>\n",
              "      <th>company_name_encoded</th>\n",
              "    </tr>\n",
              "  </thead>\n",
              "  <tbody>\n",
              "    <tr>\n",
              "      <th>0</th>\n",
              "      <td>5-7 yrs</td>\n",
              "      <td>Exp: Minimum 5 years;Good understanding of IOC...</td>\n",
              "      <td>Senior Exploit and Vulnerability Researcher</td>\n",
              "      <td>team skills, communication skills, analytical ...</td>\n",
              "      <td>Delhi NCR(Vikas Puri)</td>\n",
              "      <td>6to10</td>\n",
              "      <td>3687</td>\n",
              "    </tr>\n",
              "    <tr>\n",
              "      <th>1</th>\n",
              "      <td>10-17 yrs</td>\n",
              "      <td>He should have handled a team of atleast 5-6 d...</td>\n",
              "      <td>Head SCM</td>\n",
              "      <td>ppc, logistics, inventory management, supply c...</td>\n",
              "      <td>Sonepat</td>\n",
              "      <td>10to15</td>\n",
              "      <td>458</td>\n",
              "    </tr>\n",
              "  </tbody>\n",
              "</table>\n",
              "</div>\n",
              "      <button class=\"colab-df-convert\" onclick=\"convertToInteractive('df-ddb1ebcf-188f-42d8-8671-87b3b6a7503d')\"\n",
              "              title=\"Convert this dataframe to an interactive table.\"\n",
              "              style=\"display:none;\">\n",
              "        \n",
              "  <svg xmlns=\"http://www.w3.org/2000/svg\" height=\"24px\"viewBox=\"0 0 24 24\"\n",
              "       width=\"24px\">\n",
              "    <path d=\"M0 0h24v24H0V0z\" fill=\"none\"/>\n",
              "    <path d=\"M18.56 5.44l.94 2.06.94-2.06 2.06-.94-2.06-.94-.94-2.06-.94 2.06-2.06.94zm-11 1L8.5 8.5l.94-2.06 2.06-.94-2.06-.94L8.5 2.5l-.94 2.06-2.06.94zm10 10l.94 2.06.94-2.06 2.06-.94-2.06-.94-.94-2.06-.94 2.06-2.06.94z\"/><path d=\"M17.41 7.96l-1.37-1.37c-.4-.4-.92-.59-1.43-.59-.52 0-1.04.2-1.43.59L10.3 9.45l-7.72 7.72c-.78.78-.78 2.05 0 2.83L4 21.41c.39.39.9.59 1.41.59.51 0 1.02-.2 1.41-.59l7.78-7.78 2.81-2.81c.8-.78.8-2.07 0-2.86zM5.41 20L4 18.59l7.72-7.72 1.47 1.35L5.41 20z\"/>\n",
              "  </svg>\n",
              "      </button>\n",
              "      \n",
              "  <style>\n",
              "    .colab-df-container {\n",
              "      display:flex;\n",
              "      flex-wrap:wrap;\n",
              "      gap: 12px;\n",
              "    }\n",
              "\n",
              "    .colab-df-convert {\n",
              "      background-color: #E8F0FE;\n",
              "      border: none;\n",
              "      border-radius: 50%;\n",
              "      cursor: pointer;\n",
              "      display: none;\n",
              "      fill: #1967D2;\n",
              "      height: 32px;\n",
              "      padding: 0 0 0 0;\n",
              "      width: 32px;\n",
              "    }\n",
              "\n",
              "    .colab-df-convert:hover {\n",
              "      background-color: #E2EBFA;\n",
              "      box-shadow: 0px 1px 2px rgba(60, 64, 67, 0.3), 0px 1px 3px 1px rgba(60, 64, 67, 0.15);\n",
              "      fill: #174EA6;\n",
              "    }\n",
              "\n",
              "    [theme=dark] .colab-df-convert {\n",
              "      background-color: #3B4455;\n",
              "      fill: #D2E3FC;\n",
              "    }\n",
              "\n",
              "    [theme=dark] .colab-df-convert:hover {\n",
              "      background-color: #434B5C;\n",
              "      box-shadow: 0px 1px 3px 1px rgba(0, 0, 0, 0.15);\n",
              "      filter: drop-shadow(0px 1px 2px rgba(0, 0, 0, 0.3));\n",
              "      fill: #FFFFFF;\n",
              "    }\n",
              "  </style>\n",
              "\n",
              "      <script>\n",
              "        const buttonEl =\n",
              "          document.querySelector('#df-ddb1ebcf-188f-42d8-8671-87b3b6a7503d button.colab-df-convert');\n",
              "        buttonEl.style.display =\n",
              "          google.colab.kernel.accessAllowed ? 'block' : 'none';\n",
              "\n",
              "        async function convertToInteractive(key) {\n",
              "          const element = document.querySelector('#df-ddb1ebcf-188f-42d8-8671-87b3b6a7503d');\n",
              "          const dataTable =\n",
              "            await google.colab.kernel.invokeFunction('convertToInteractive',\n",
              "                                                     [key], {});\n",
              "          if (!dataTable) return;\n",
              "\n",
              "          const docLinkHtml = 'Like what you see? Visit the ' +\n",
              "            '<a target=\"_blank\" href=https://colab.research.google.com/notebooks/data_table.ipynb>data table notebook</a>'\n",
              "            + ' to learn more about interactive tables.';\n",
              "          element.innerHTML = '';\n",
              "          dataTable['output_type'] = 'display_data';\n",
              "          await google.colab.output.renderOutput(dataTable, element);\n",
              "          const docLink = document.createElement('div');\n",
              "          docLink.innerHTML = docLinkHtml;\n",
              "          element.appendChild(docLink);\n",
              "        }\n",
              "      </script>\n",
              "    </div>\n",
              "  </div>\n",
              "  "
            ]
          },
          "metadata": {},
          "execution_count": 279
        }
      ]
    },
    {
      "cell_type": "code",
      "source": [
        "print(dataset.info())"
      ],
      "metadata": {
        "colab": {
          "base_uri": "https://localhost:8080/"
        },
        "id": "VvEQTXg2rntl",
        "outputId": "b53c4ecf-372e-4ee5-d850-6549ecce24a3"
      },
      "execution_count": 280,
      "outputs": [
        {
          "output_type": "stream",
          "name": "stdout",
          "text": [
            "<class 'pandas.core.frame.DataFrame'>\n",
            "Int64Index: 19801 entries, 0 to 19801\n",
            "Data columns (total 7 columns):\n",
            " #   Column                Non-Null Count  Dtype \n",
            "---  ------                --------------  ----- \n",
            " 0   experience            19801 non-null  object\n",
            " 1   job_description       19801 non-null  object\n",
            " 2   job_desig             19801 non-null  object\n",
            " 3   key_skills            19801 non-null  object\n",
            " 4   location              19801 non-null  object\n",
            " 5   salary                19801 non-null  object\n",
            " 6   company_name_encoded  19801 non-null  int64 \n",
            "dtypes: int64(1), object(6)\n",
            "memory usage: 1.2+ MB\n",
            "None\n"
          ]
        }
      ]
    },
    {
      "cell_type": "markdown",
      "source": [
        "All the missing values are handled. Now, let's preprocess the dataset."
      ],
      "metadata": {
        "id": "LRPxDTTgrrwD"
      }
    },
    {
      "cell_type": "code",
      "source": [
        "import re"
      ],
      "metadata": {
        "id": "s2nd7D5Qr91R"
      },
      "execution_count": 281,
      "outputs": []
    },
    {
      "cell_type": "code",
      "source": [
        "cols = ['job_description','job_desig','key_skills','location']"
      ],
      "metadata": {
        "id": "c-iOuuLAtgNP"
      },
      "execution_count": 282,
      "outputs": []
    },
    {
      "cell_type": "code",
      "source": [
        "for c in cols:\n",
        "    dataset[c] = dataset[c].apply(lambda x:x.lower())\n",
        "dataset.head(4)"
      ],
      "metadata": {
        "colab": {
          "base_uri": "https://localhost:8080/",
          "height": 305
        },
        "id": "rOEIlDBOsAAS",
        "outputId": "160997bb-ecae-4f93-9a57-c80ca8718612"
      },
      "execution_count": 283,
      "outputs": [
        {
          "output_type": "execute_result",
          "data": {
            "text/plain": [
              "  experience                                    job_description  \\\n",
              "0    5-7 yrs  exp: minimum 5 years;good understanding of ioc...   \n",
              "1  10-17 yrs  he should have handled a team of atleast 5-6 d...   \n",
              "2    5-9 yrs  must be an effective communicator (written & s...   \n",
              "3   7-10 yrs  7  -  10 years of overall experience in data e...   \n",
              "\n",
              "                                           job_desig  \\\n",
              "0        senior exploit and vulnerability researcher   \n",
              "1                                           head scm   \n",
              "2  deputy manager - talent management & leadershi...   \n",
              "3                 associate manager data engineering   \n",
              "\n",
              "                                          key_skills               location  \\\n",
              "0  team skills, communication skills, analytical ...  delhi ncr(vikas puri)   \n",
              "1  ppc, logistics, inventory management, supply c...                sonepat   \n",
              "2  hr analytics, employee engagement, training, s...              delhi ncr   \n",
              "3  sql, javascript, automation, python, ruby, ana...              bengaluru   \n",
              "\n",
              "   salary  company_name_encoded  \n",
              "0   6to10                  3687  \n",
              "1  10to15                   458  \n",
              "2  15to25                  4195  \n",
              "3  10to15                   313  "
            ],
            "text/html": [
              "\n",
              "  <div id=\"df-5b459066-69f3-452e-b8eb-ed3f1216d4dd\">\n",
              "    <div class=\"colab-df-container\">\n",
              "      <div>\n",
              "<style scoped>\n",
              "    .dataframe tbody tr th:only-of-type {\n",
              "        vertical-align: middle;\n",
              "    }\n",
              "\n",
              "    .dataframe tbody tr th {\n",
              "        vertical-align: top;\n",
              "    }\n",
              "\n",
              "    .dataframe thead th {\n",
              "        text-align: right;\n",
              "    }\n",
              "</style>\n",
              "<table border=\"1\" class=\"dataframe\">\n",
              "  <thead>\n",
              "    <tr style=\"text-align: right;\">\n",
              "      <th></th>\n",
              "      <th>experience</th>\n",
              "      <th>job_description</th>\n",
              "      <th>job_desig</th>\n",
              "      <th>key_skills</th>\n",
              "      <th>location</th>\n",
              "      <th>salary</th>\n",
              "      <th>company_name_encoded</th>\n",
              "    </tr>\n",
              "  </thead>\n",
              "  <tbody>\n",
              "    <tr>\n",
              "      <th>0</th>\n",
              "      <td>5-7 yrs</td>\n",
              "      <td>exp: minimum 5 years;good understanding of ioc...</td>\n",
              "      <td>senior exploit and vulnerability researcher</td>\n",
              "      <td>team skills, communication skills, analytical ...</td>\n",
              "      <td>delhi ncr(vikas puri)</td>\n",
              "      <td>6to10</td>\n",
              "      <td>3687</td>\n",
              "    </tr>\n",
              "    <tr>\n",
              "      <th>1</th>\n",
              "      <td>10-17 yrs</td>\n",
              "      <td>he should have handled a team of atleast 5-6 d...</td>\n",
              "      <td>head scm</td>\n",
              "      <td>ppc, logistics, inventory management, supply c...</td>\n",
              "      <td>sonepat</td>\n",
              "      <td>10to15</td>\n",
              "      <td>458</td>\n",
              "    </tr>\n",
              "    <tr>\n",
              "      <th>2</th>\n",
              "      <td>5-9 yrs</td>\n",
              "      <td>must be an effective communicator (written &amp; s...</td>\n",
              "      <td>deputy manager - talent management &amp; leadershi...</td>\n",
              "      <td>hr analytics, employee engagement, training, s...</td>\n",
              "      <td>delhi ncr</td>\n",
              "      <td>15to25</td>\n",
              "      <td>4195</td>\n",
              "    </tr>\n",
              "    <tr>\n",
              "      <th>3</th>\n",
              "      <td>7-10 yrs</td>\n",
              "      <td>7  -  10 years of overall experience in data e...</td>\n",
              "      <td>associate manager data engineering</td>\n",
              "      <td>sql, javascript, automation, python, ruby, ana...</td>\n",
              "      <td>bengaluru</td>\n",
              "      <td>10to15</td>\n",
              "      <td>313</td>\n",
              "    </tr>\n",
              "  </tbody>\n",
              "</table>\n",
              "</div>\n",
              "      <button class=\"colab-df-convert\" onclick=\"convertToInteractive('df-5b459066-69f3-452e-b8eb-ed3f1216d4dd')\"\n",
              "              title=\"Convert this dataframe to an interactive table.\"\n",
              "              style=\"display:none;\">\n",
              "        \n",
              "  <svg xmlns=\"http://www.w3.org/2000/svg\" height=\"24px\"viewBox=\"0 0 24 24\"\n",
              "       width=\"24px\">\n",
              "    <path d=\"M0 0h24v24H0V0z\" fill=\"none\"/>\n",
              "    <path d=\"M18.56 5.44l.94 2.06.94-2.06 2.06-.94-2.06-.94-.94-2.06-.94 2.06-2.06.94zm-11 1L8.5 8.5l.94-2.06 2.06-.94-2.06-.94L8.5 2.5l-.94 2.06-2.06.94zm10 10l.94 2.06.94-2.06 2.06-.94-2.06-.94-.94-2.06-.94 2.06-2.06.94z\"/><path d=\"M17.41 7.96l-1.37-1.37c-.4-.4-.92-.59-1.43-.59-.52 0-1.04.2-1.43.59L10.3 9.45l-7.72 7.72c-.78.78-.78 2.05 0 2.83L4 21.41c.39.39.9.59 1.41.59.51 0 1.02-.2 1.41-.59l7.78-7.78 2.81-2.81c.8-.78.8-2.07 0-2.86zM5.41 20L4 18.59l7.72-7.72 1.47 1.35L5.41 20z\"/>\n",
              "  </svg>\n",
              "      </button>\n",
              "      \n",
              "  <style>\n",
              "    .colab-df-container {\n",
              "      display:flex;\n",
              "      flex-wrap:wrap;\n",
              "      gap: 12px;\n",
              "    }\n",
              "\n",
              "    .colab-df-convert {\n",
              "      background-color: #E8F0FE;\n",
              "      border: none;\n",
              "      border-radius: 50%;\n",
              "      cursor: pointer;\n",
              "      display: none;\n",
              "      fill: #1967D2;\n",
              "      height: 32px;\n",
              "      padding: 0 0 0 0;\n",
              "      width: 32px;\n",
              "    }\n",
              "\n",
              "    .colab-df-convert:hover {\n",
              "      background-color: #E2EBFA;\n",
              "      box-shadow: 0px 1px 2px rgba(60, 64, 67, 0.3), 0px 1px 3px 1px rgba(60, 64, 67, 0.15);\n",
              "      fill: #174EA6;\n",
              "    }\n",
              "\n",
              "    [theme=dark] .colab-df-convert {\n",
              "      background-color: #3B4455;\n",
              "      fill: #D2E3FC;\n",
              "    }\n",
              "\n",
              "    [theme=dark] .colab-df-convert:hover {\n",
              "      background-color: #434B5C;\n",
              "      box-shadow: 0px 1px 3px 1px rgba(0, 0, 0, 0.15);\n",
              "      filter: drop-shadow(0px 1px 2px rgba(0, 0, 0, 0.3));\n",
              "      fill: #FFFFFF;\n",
              "    }\n",
              "  </style>\n",
              "\n",
              "      <script>\n",
              "        const buttonEl =\n",
              "          document.querySelector('#df-5b459066-69f3-452e-b8eb-ed3f1216d4dd button.colab-df-convert');\n",
              "        buttonEl.style.display =\n",
              "          google.colab.kernel.accessAllowed ? 'block' : 'none';\n",
              "\n",
              "        async function convertToInteractive(key) {\n",
              "          const element = document.querySelector('#df-5b459066-69f3-452e-b8eb-ed3f1216d4dd');\n",
              "          const dataTable =\n",
              "            await google.colab.kernel.invokeFunction('convertToInteractive',\n",
              "                                                     [key], {});\n",
              "          if (!dataTable) return;\n",
              "\n",
              "          const docLinkHtml = 'Like what you see? Visit the ' +\n",
              "            '<a target=\"_blank\" href=https://colab.research.google.com/notebooks/data_table.ipynb>data table notebook</a>'\n",
              "            + ' to learn more about interactive tables.';\n",
              "          element.innerHTML = '';\n",
              "          dataTable['output_type'] = 'display_data';\n",
              "          await google.colab.output.renderOutput(dataTable, element);\n",
              "          const docLink = document.createElement('div');\n",
              "          docLink.innerHTML = docLinkHtml;\n",
              "          element.appendChild(docLink);\n",
              "        }\n",
              "      </script>\n",
              "    </div>\n",
              "  </div>\n",
              "  "
            ]
          },
          "metadata": {},
          "execution_count": 283
        }
      ]
    },
    {
      "cell_type": "markdown",
      "source": [
        "To be encoded are:\n",
        "\n",
        "\n",
        "1.   Salary \n",
        "\n"
      ],
      "metadata": {
        "id": "F6Mr5M1av2-p"
      }
    },
    {
      "cell_type": "code",
      "source": [
        "enc_cols = ['salary']\n",
        "from sklearn.preprocessing import LabelEncoder\n",
        "for col in enc_cols:\n",
        "    dataset[col] = LabelEncoder().fit_transform(dataset[col])"
      ],
      "metadata": {
        "id": "_fMN6VjFvI8q"
      },
      "execution_count": 284,
      "outputs": []
    },
    {
      "cell_type": "code",
      "source": [
        "dataset.head(2)"
      ],
      "metadata": {
        "colab": {
          "base_uri": "https://localhost:8080/",
          "height": 191
        },
        "id": "haB9pprZx6LB",
        "outputId": "873f909c-6fc5-418e-8433-a6c36f51f896"
      },
      "execution_count": 285,
      "outputs": [
        {
          "output_type": "execute_result",
          "data": {
            "text/plain": [
              "  experience                                    job_description  \\\n",
              "0    5-7 yrs  exp: minimum 5 years;good understanding of ioc...   \n",
              "1  10-17 yrs  he should have handled a team of atleast 5-6 d...   \n",
              "\n",
              "                                     job_desig  \\\n",
              "0  senior exploit and vulnerability researcher   \n",
              "1                                     head scm   \n",
              "\n",
              "                                          key_skills               location  \\\n",
              "0  team skills, communication skills, analytical ...  delhi ncr(vikas puri)   \n",
              "1  ppc, logistics, inventory management, supply c...                sonepat   \n",
              "\n",
              "   salary  company_name_encoded  \n",
              "0       5                  3687  \n",
              "1       1                   458  "
            ],
            "text/html": [
              "\n",
              "  <div id=\"df-9b434234-3403-4b16-93d9-46e366d21362\">\n",
              "    <div class=\"colab-df-container\">\n",
              "      <div>\n",
              "<style scoped>\n",
              "    .dataframe tbody tr th:only-of-type {\n",
              "        vertical-align: middle;\n",
              "    }\n",
              "\n",
              "    .dataframe tbody tr th {\n",
              "        vertical-align: top;\n",
              "    }\n",
              "\n",
              "    .dataframe thead th {\n",
              "        text-align: right;\n",
              "    }\n",
              "</style>\n",
              "<table border=\"1\" class=\"dataframe\">\n",
              "  <thead>\n",
              "    <tr style=\"text-align: right;\">\n",
              "      <th></th>\n",
              "      <th>experience</th>\n",
              "      <th>job_description</th>\n",
              "      <th>job_desig</th>\n",
              "      <th>key_skills</th>\n",
              "      <th>location</th>\n",
              "      <th>salary</th>\n",
              "      <th>company_name_encoded</th>\n",
              "    </tr>\n",
              "  </thead>\n",
              "  <tbody>\n",
              "    <tr>\n",
              "      <th>0</th>\n",
              "      <td>5-7 yrs</td>\n",
              "      <td>exp: minimum 5 years;good understanding of ioc...</td>\n",
              "      <td>senior exploit and vulnerability researcher</td>\n",
              "      <td>team skills, communication skills, analytical ...</td>\n",
              "      <td>delhi ncr(vikas puri)</td>\n",
              "      <td>5</td>\n",
              "      <td>3687</td>\n",
              "    </tr>\n",
              "    <tr>\n",
              "      <th>1</th>\n",
              "      <td>10-17 yrs</td>\n",
              "      <td>he should have handled a team of atleast 5-6 d...</td>\n",
              "      <td>head scm</td>\n",
              "      <td>ppc, logistics, inventory management, supply c...</td>\n",
              "      <td>sonepat</td>\n",
              "      <td>1</td>\n",
              "      <td>458</td>\n",
              "    </tr>\n",
              "  </tbody>\n",
              "</table>\n",
              "</div>\n",
              "      <button class=\"colab-df-convert\" onclick=\"convertToInteractive('df-9b434234-3403-4b16-93d9-46e366d21362')\"\n",
              "              title=\"Convert this dataframe to an interactive table.\"\n",
              "              style=\"display:none;\">\n",
              "        \n",
              "  <svg xmlns=\"http://www.w3.org/2000/svg\" height=\"24px\"viewBox=\"0 0 24 24\"\n",
              "       width=\"24px\">\n",
              "    <path d=\"M0 0h24v24H0V0z\" fill=\"none\"/>\n",
              "    <path d=\"M18.56 5.44l.94 2.06.94-2.06 2.06-.94-2.06-.94-.94-2.06-.94 2.06-2.06.94zm-11 1L8.5 8.5l.94-2.06 2.06-.94-2.06-.94L8.5 2.5l-.94 2.06-2.06.94zm10 10l.94 2.06.94-2.06 2.06-.94-2.06-.94-.94-2.06-.94 2.06-2.06.94z\"/><path d=\"M17.41 7.96l-1.37-1.37c-.4-.4-.92-.59-1.43-.59-.52 0-1.04.2-1.43.59L10.3 9.45l-7.72 7.72c-.78.78-.78 2.05 0 2.83L4 21.41c.39.39.9.59 1.41.59.51 0 1.02-.2 1.41-.59l7.78-7.78 2.81-2.81c.8-.78.8-2.07 0-2.86zM5.41 20L4 18.59l7.72-7.72 1.47 1.35L5.41 20z\"/>\n",
              "  </svg>\n",
              "      </button>\n",
              "      \n",
              "  <style>\n",
              "    .colab-df-container {\n",
              "      display:flex;\n",
              "      flex-wrap:wrap;\n",
              "      gap: 12px;\n",
              "    }\n",
              "\n",
              "    .colab-df-convert {\n",
              "      background-color: #E8F0FE;\n",
              "      border: none;\n",
              "      border-radius: 50%;\n",
              "      cursor: pointer;\n",
              "      display: none;\n",
              "      fill: #1967D2;\n",
              "      height: 32px;\n",
              "      padding: 0 0 0 0;\n",
              "      width: 32px;\n",
              "    }\n",
              "\n",
              "    .colab-df-convert:hover {\n",
              "      background-color: #E2EBFA;\n",
              "      box-shadow: 0px 1px 2px rgba(60, 64, 67, 0.3), 0px 1px 3px 1px rgba(60, 64, 67, 0.15);\n",
              "      fill: #174EA6;\n",
              "    }\n",
              "\n",
              "    [theme=dark] .colab-df-convert {\n",
              "      background-color: #3B4455;\n",
              "      fill: #D2E3FC;\n",
              "    }\n",
              "\n",
              "    [theme=dark] .colab-df-convert:hover {\n",
              "      background-color: #434B5C;\n",
              "      box-shadow: 0px 1px 3px 1px rgba(0, 0, 0, 0.15);\n",
              "      filter: drop-shadow(0px 1px 2px rgba(0, 0, 0, 0.3));\n",
              "      fill: #FFFFFF;\n",
              "    }\n",
              "  </style>\n",
              "\n",
              "      <script>\n",
              "        const buttonEl =\n",
              "          document.querySelector('#df-9b434234-3403-4b16-93d9-46e366d21362 button.colab-df-convert');\n",
              "        buttonEl.style.display =\n",
              "          google.colab.kernel.accessAllowed ? 'block' : 'none';\n",
              "\n",
              "        async function convertToInteractive(key) {\n",
              "          const element = document.querySelector('#df-9b434234-3403-4b16-93d9-46e366d21362');\n",
              "          const dataTable =\n",
              "            await google.colab.kernel.invokeFunction('convertToInteractive',\n",
              "                                                     [key], {});\n",
              "          if (!dataTable) return;\n",
              "\n",
              "          const docLinkHtml = 'Like what you see? Visit the ' +\n",
              "            '<a target=\"_blank\" href=https://colab.research.google.com/notebooks/data_table.ipynb>data table notebook</a>'\n",
              "            + ' to learn more about interactive tables.';\n",
              "          element.innerHTML = '';\n",
              "          dataTable['output_type'] = 'display_data';\n",
              "          await google.colab.output.renderOutput(dataTable, element);\n",
              "          const docLink = document.createElement('div');\n",
              "          docLink.innerHTML = docLinkHtml;\n",
              "          element.appendChild(docLink);\n",
              "        }\n",
              "      </script>\n",
              "    </div>\n",
              "  </div>\n",
              "  "
            ]
          },
          "metadata": {},
          "execution_count": 285
        }
      ]
    },
    {
      "cell_type": "code",
      "source": [
        "dataset.shape"
      ],
      "metadata": {
        "colab": {
          "base_uri": "https://localhost:8080/"
        },
        "id": "F7xJtFBpx9dz",
        "outputId": "bcfe2347-2cde-4eea-e30c-a5aa3c8df949"
      },
      "execution_count": 286,
      "outputs": [
        {
          "output_type": "execute_result",
          "data": {
            "text/plain": [
              "(19801, 7)"
            ]
          },
          "metadata": {},
          "execution_count": 286
        }
      ]
    },
    {
      "cell_type": "code",
      "source": [
        "Y = dataset['salary']\n",
        "X = dataset.drop(columns='salary')"
      ],
      "metadata": {
        "id": "8Fv_T4P6yOvn"
      },
      "execution_count": 287,
      "outputs": []
    },
    {
      "cell_type": "code",
      "source": [
        "X.shape"
      ],
      "metadata": {
        "colab": {
          "base_uri": "https://localhost:8080/"
        },
        "id": "l4EQO5TMyXQk",
        "outputId": "fb93d036-4dd3-4efb-ff76-359a9698b7ef"
      },
      "execution_count": 288,
      "outputs": [
        {
          "output_type": "execute_result",
          "data": {
            "text/plain": [
              "(19801, 6)"
            ]
          },
          "metadata": {},
          "execution_count": 288
        }
      ]
    },
    {
      "cell_type": "markdown",
      "source": [
        "Preprocessing the text data.."
      ],
      "metadata": {
        "id": "bh62U-56ylRB"
      }
    },
    {
      "cell_type": "code",
      "source": [
        "X.head()"
      ],
      "metadata": {
        "colab": {
          "base_uri": "https://localhost:8080/",
          "height": 337
        },
        "id": "lHbApCJIyomS",
        "outputId": "9b30508a-f90d-44f7-ce6f-c6ef4dde0cb5"
      },
      "execution_count": 289,
      "outputs": [
        {
          "output_type": "execute_result",
          "data": {
            "text/plain": [
              "  experience                                    job_description  \\\n",
              "0    5-7 yrs  exp: minimum 5 years;good understanding of ioc...   \n",
              "1  10-17 yrs  he should have handled a team of atleast 5-6 d...   \n",
              "2    5-9 yrs  must be an effective communicator (written & s...   \n",
              "3   7-10 yrs  7  -  10 years of overall experience in data e...   \n",
              "4    1-3 yrs  chartered accountancy degree or mba in finance...   \n",
              "\n",
              "                                           job_desig  \\\n",
              "0        senior exploit and vulnerability researcher   \n",
              "1                                           head scm   \n",
              "2  deputy manager - talent management & leadershi...   \n",
              "3                 associate manager data engineering   \n",
              "4                            ts- gsa- senior analyst   \n",
              "\n",
              "                                          key_skills               location  \\\n",
              "0  team skills, communication skills, analytical ...  delhi ncr(vikas puri)   \n",
              "1  ppc, logistics, inventory management, supply c...                sonepat   \n",
              "2  hr analytics, employee engagement, training, s...              delhi ncr   \n",
              "3  sql, javascript, automation, python, ruby, ana...              bengaluru   \n",
              "4  accounting, finance, cash flow, financial plan...                gurgaon   \n",
              "\n",
              "   company_name_encoded  \n",
              "0                  3687  \n",
              "1                   458  \n",
              "2                  4195  \n",
              "3                   313  \n",
              "4                  1305  "
            ],
            "text/html": [
              "\n",
              "  <div id=\"df-09e07bf5-a69e-4fc7-bf38-57cf3a1fd39d\">\n",
              "    <div class=\"colab-df-container\">\n",
              "      <div>\n",
              "<style scoped>\n",
              "    .dataframe tbody tr th:only-of-type {\n",
              "        vertical-align: middle;\n",
              "    }\n",
              "\n",
              "    .dataframe tbody tr th {\n",
              "        vertical-align: top;\n",
              "    }\n",
              "\n",
              "    .dataframe thead th {\n",
              "        text-align: right;\n",
              "    }\n",
              "</style>\n",
              "<table border=\"1\" class=\"dataframe\">\n",
              "  <thead>\n",
              "    <tr style=\"text-align: right;\">\n",
              "      <th></th>\n",
              "      <th>experience</th>\n",
              "      <th>job_description</th>\n",
              "      <th>job_desig</th>\n",
              "      <th>key_skills</th>\n",
              "      <th>location</th>\n",
              "      <th>company_name_encoded</th>\n",
              "    </tr>\n",
              "  </thead>\n",
              "  <tbody>\n",
              "    <tr>\n",
              "      <th>0</th>\n",
              "      <td>5-7 yrs</td>\n",
              "      <td>exp: minimum 5 years;good understanding of ioc...</td>\n",
              "      <td>senior exploit and vulnerability researcher</td>\n",
              "      <td>team skills, communication skills, analytical ...</td>\n",
              "      <td>delhi ncr(vikas puri)</td>\n",
              "      <td>3687</td>\n",
              "    </tr>\n",
              "    <tr>\n",
              "      <th>1</th>\n",
              "      <td>10-17 yrs</td>\n",
              "      <td>he should have handled a team of atleast 5-6 d...</td>\n",
              "      <td>head scm</td>\n",
              "      <td>ppc, logistics, inventory management, supply c...</td>\n",
              "      <td>sonepat</td>\n",
              "      <td>458</td>\n",
              "    </tr>\n",
              "    <tr>\n",
              "      <th>2</th>\n",
              "      <td>5-9 yrs</td>\n",
              "      <td>must be an effective communicator (written &amp; s...</td>\n",
              "      <td>deputy manager - talent management &amp; leadershi...</td>\n",
              "      <td>hr analytics, employee engagement, training, s...</td>\n",
              "      <td>delhi ncr</td>\n",
              "      <td>4195</td>\n",
              "    </tr>\n",
              "    <tr>\n",
              "      <th>3</th>\n",
              "      <td>7-10 yrs</td>\n",
              "      <td>7  -  10 years of overall experience in data e...</td>\n",
              "      <td>associate manager data engineering</td>\n",
              "      <td>sql, javascript, automation, python, ruby, ana...</td>\n",
              "      <td>bengaluru</td>\n",
              "      <td>313</td>\n",
              "    </tr>\n",
              "    <tr>\n",
              "      <th>4</th>\n",
              "      <td>1-3 yrs</td>\n",
              "      <td>chartered accountancy degree or mba in finance...</td>\n",
              "      <td>ts- gsa- senior analyst</td>\n",
              "      <td>accounting, finance, cash flow, financial plan...</td>\n",
              "      <td>gurgaon</td>\n",
              "      <td>1305</td>\n",
              "    </tr>\n",
              "  </tbody>\n",
              "</table>\n",
              "</div>\n",
              "      <button class=\"colab-df-convert\" onclick=\"convertToInteractive('df-09e07bf5-a69e-4fc7-bf38-57cf3a1fd39d')\"\n",
              "              title=\"Convert this dataframe to an interactive table.\"\n",
              "              style=\"display:none;\">\n",
              "        \n",
              "  <svg xmlns=\"http://www.w3.org/2000/svg\" height=\"24px\"viewBox=\"0 0 24 24\"\n",
              "       width=\"24px\">\n",
              "    <path d=\"M0 0h24v24H0V0z\" fill=\"none\"/>\n",
              "    <path d=\"M18.56 5.44l.94 2.06.94-2.06 2.06-.94-2.06-.94-.94-2.06-.94 2.06-2.06.94zm-11 1L8.5 8.5l.94-2.06 2.06-.94-2.06-.94L8.5 2.5l-.94 2.06-2.06.94zm10 10l.94 2.06.94-2.06 2.06-.94-2.06-.94-.94-2.06-.94 2.06-2.06.94z\"/><path d=\"M17.41 7.96l-1.37-1.37c-.4-.4-.92-.59-1.43-.59-.52 0-1.04.2-1.43.59L10.3 9.45l-7.72 7.72c-.78.78-.78 2.05 0 2.83L4 21.41c.39.39.9.59 1.41.59.51 0 1.02-.2 1.41-.59l7.78-7.78 2.81-2.81c.8-.78.8-2.07 0-2.86zM5.41 20L4 18.59l7.72-7.72 1.47 1.35L5.41 20z\"/>\n",
              "  </svg>\n",
              "      </button>\n",
              "      \n",
              "  <style>\n",
              "    .colab-df-container {\n",
              "      display:flex;\n",
              "      flex-wrap:wrap;\n",
              "      gap: 12px;\n",
              "    }\n",
              "\n",
              "    .colab-df-convert {\n",
              "      background-color: #E8F0FE;\n",
              "      border: none;\n",
              "      border-radius: 50%;\n",
              "      cursor: pointer;\n",
              "      display: none;\n",
              "      fill: #1967D2;\n",
              "      height: 32px;\n",
              "      padding: 0 0 0 0;\n",
              "      width: 32px;\n",
              "    }\n",
              "\n",
              "    .colab-df-convert:hover {\n",
              "      background-color: #E2EBFA;\n",
              "      box-shadow: 0px 1px 2px rgba(60, 64, 67, 0.3), 0px 1px 3px 1px rgba(60, 64, 67, 0.15);\n",
              "      fill: #174EA6;\n",
              "    }\n",
              "\n",
              "    [theme=dark] .colab-df-convert {\n",
              "      background-color: #3B4455;\n",
              "      fill: #D2E3FC;\n",
              "    }\n",
              "\n",
              "    [theme=dark] .colab-df-convert:hover {\n",
              "      background-color: #434B5C;\n",
              "      box-shadow: 0px 1px 3px 1px rgba(0, 0, 0, 0.15);\n",
              "      filter: drop-shadow(0px 1px 2px rgba(0, 0, 0, 0.3));\n",
              "      fill: #FFFFFF;\n",
              "    }\n",
              "  </style>\n",
              "\n",
              "      <script>\n",
              "        const buttonEl =\n",
              "          document.querySelector('#df-09e07bf5-a69e-4fc7-bf38-57cf3a1fd39d button.colab-df-convert');\n",
              "        buttonEl.style.display =\n",
              "          google.colab.kernel.accessAllowed ? 'block' : 'none';\n",
              "\n",
              "        async function convertToInteractive(key) {\n",
              "          const element = document.querySelector('#df-09e07bf5-a69e-4fc7-bf38-57cf3a1fd39d');\n",
              "          const dataTable =\n",
              "            await google.colab.kernel.invokeFunction('convertToInteractive',\n",
              "                                                     [key], {});\n",
              "          if (!dataTable) return;\n",
              "\n",
              "          const docLinkHtml = 'Like what you see? Visit the ' +\n",
              "            '<a target=\"_blank\" href=https://colab.research.google.com/notebooks/data_table.ipynb>data table notebook</a>'\n",
              "            + ' to learn more about interactive tables.';\n",
              "          element.innerHTML = '';\n",
              "          dataTable['output_type'] = 'display_data';\n",
              "          await google.colab.output.renderOutput(dataTable, element);\n",
              "          const docLink = document.createElement('div');\n",
              "          docLink.innerHTML = docLinkHtml;\n",
              "          element.appendChild(docLink);\n",
              "        }\n",
              "      </script>\n",
              "    </div>\n",
              "  </div>\n",
              "  "
            ]
          },
          "metadata": {},
          "execution_count": 289
        }
      ]
    },
    {
      "cell_type": "code",
      "source": [
        "def cleanUptheText(data):\n",
        "    data = re.sub(r'\\n',' ',data)\n",
        "    data = re.sub(r'\\t',' ',data)\n",
        "    data = re.sub(r'\\s+',' ',data)\n",
        "    return data\n",
        "\n",
        "for col in X.columns:\n",
        "    if col!='company_name_encoded':\n",
        "        X[col] = X[col].apply(cleanUptheText)\n",
        "X.head()"
      ],
      "metadata": {
        "colab": {
          "base_uri": "https://localhost:8080/",
          "height": 337
        },
        "id": "nSEzfVHX1Fw2",
        "outputId": "bbe2aa9c-e2f2-48a4-b12d-c4fca4eecdba"
      },
      "execution_count": 290,
      "outputs": [
        {
          "output_type": "execute_result",
          "data": {
            "text/plain": [
              "  experience                                    job_description  \\\n",
              "0    5-7 yrs  exp: minimum 5 years;good understanding of ioc...   \n",
              "1  10-17 yrs  he should have handled a team of atleast 5-6 d...   \n",
              "2    5-9 yrs  must be an effective communicator (written & s...   \n",
              "3   7-10 yrs  7 - 10 years of overall experience in data eng...   \n",
              "4    1-3 yrs  chartered accountancy degree or mba in finance...   \n",
              "\n",
              "                                           job_desig  \\\n",
              "0        senior exploit and vulnerability researcher   \n",
              "1                                           head scm   \n",
              "2  deputy manager - talent management & leadershi...   \n",
              "3                 associate manager data engineering   \n",
              "4                            ts- gsa- senior analyst   \n",
              "\n",
              "                                          key_skills               location  \\\n",
              "0  team skills, communication skills, analytical ...  delhi ncr(vikas puri)   \n",
              "1  ppc, logistics, inventory management, supply c...                sonepat   \n",
              "2  hr analytics, employee engagement, training, s...              delhi ncr   \n",
              "3  sql, javascript, automation, python, ruby, ana...              bengaluru   \n",
              "4  accounting, finance, cash flow, financial plan...                gurgaon   \n",
              "\n",
              "   company_name_encoded  \n",
              "0                  3687  \n",
              "1                   458  \n",
              "2                  4195  \n",
              "3                   313  \n",
              "4                  1305  "
            ],
            "text/html": [
              "\n",
              "  <div id=\"df-1e30f4e8-13c1-44a4-9469-f5f85f147093\">\n",
              "    <div class=\"colab-df-container\">\n",
              "      <div>\n",
              "<style scoped>\n",
              "    .dataframe tbody tr th:only-of-type {\n",
              "        vertical-align: middle;\n",
              "    }\n",
              "\n",
              "    .dataframe tbody tr th {\n",
              "        vertical-align: top;\n",
              "    }\n",
              "\n",
              "    .dataframe thead th {\n",
              "        text-align: right;\n",
              "    }\n",
              "</style>\n",
              "<table border=\"1\" class=\"dataframe\">\n",
              "  <thead>\n",
              "    <tr style=\"text-align: right;\">\n",
              "      <th></th>\n",
              "      <th>experience</th>\n",
              "      <th>job_description</th>\n",
              "      <th>job_desig</th>\n",
              "      <th>key_skills</th>\n",
              "      <th>location</th>\n",
              "      <th>company_name_encoded</th>\n",
              "    </tr>\n",
              "  </thead>\n",
              "  <tbody>\n",
              "    <tr>\n",
              "      <th>0</th>\n",
              "      <td>5-7 yrs</td>\n",
              "      <td>exp: minimum 5 years;good understanding of ioc...</td>\n",
              "      <td>senior exploit and vulnerability researcher</td>\n",
              "      <td>team skills, communication skills, analytical ...</td>\n",
              "      <td>delhi ncr(vikas puri)</td>\n",
              "      <td>3687</td>\n",
              "    </tr>\n",
              "    <tr>\n",
              "      <th>1</th>\n",
              "      <td>10-17 yrs</td>\n",
              "      <td>he should have handled a team of atleast 5-6 d...</td>\n",
              "      <td>head scm</td>\n",
              "      <td>ppc, logistics, inventory management, supply c...</td>\n",
              "      <td>sonepat</td>\n",
              "      <td>458</td>\n",
              "    </tr>\n",
              "    <tr>\n",
              "      <th>2</th>\n",
              "      <td>5-9 yrs</td>\n",
              "      <td>must be an effective communicator (written &amp; s...</td>\n",
              "      <td>deputy manager - talent management &amp; leadershi...</td>\n",
              "      <td>hr analytics, employee engagement, training, s...</td>\n",
              "      <td>delhi ncr</td>\n",
              "      <td>4195</td>\n",
              "    </tr>\n",
              "    <tr>\n",
              "      <th>3</th>\n",
              "      <td>7-10 yrs</td>\n",
              "      <td>7 - 10 years of overall experience in data eng...</td>\n",
              "      <td>associate manager data engineering</td>\n",
              "      <td>sql, javascript, automation, python, ruby, ana...</td>\n",
              "      <td>bengaluru</td>\n",
              "      <td>313</td>\n",
              "    </tr>\n",
              "    <tr>\n",
              "      <th>4</th>\n",
              "      <td>1-3 yrs</td>\n",
              "      <td>chartered accountancy degree or mba in finance...</td>\n",
              "      <td>ts- gsa- senior analyst</td>\n",
              "      <td>accounting, finance, cash flow, financial plan...</td>\n",
              "      <td>gurgaon</td>\n",
              "      <td>1305</td>\n",
              "    </tr>\n",
              "  </tbody>\n",
              "</table>\n",
              "</div>\n",
              "      <button class=\"colab-df-convert\" onclick=\"convertToInteractive('df-1e30f4e8-13c1-44a4-9469-f5f85f147093')\"\n",
              "              title=\"Convert this dataframe to an interactive table.\"\n",
              "              style=\"display:none;\">\n",
              "        \n",
              "  <svg xmlns=\"http://www.w3.org/2000/svg\" height=\"24px\"viewBox=\"0 0 24 24\"\n",
              "       width=\"24px\">\n",
              "    <path d=\"M0 0h24v24H0V0z\" fill=\"none\"/>\n",
              "    <path d=\"M18.56 5.44l.94 2.06.94-2.06 2.06-.94-2.06-.94-.94-2.06-.94 2.06-2.06.94zm-11 1L8.5 8.5l.94-2.06 2.06-.94-2.06-.94L8.5 2.5l-.94 2.06-2.06.94zm10 10l.94 2.06.94-2.06 2.06-.94-2.06-.94-.94-2.06-.94 2.06-2.06.94z\"/><path d=\"M17.41 7.96l-1.37-1.37c-.4-.4-.92-.59-1.43-.59-.52 0-1.04.2-1.43.59L10.3 9.45l-7.72 7.72c-.78.78-.78 2.05 0 2.83L4 21.41c.39.39.9.59 1.41.59.51 0 1.02-.2 1.41-.59l7.78-7.78 2.81-2.81c.8-.78.8-2.07 0-2.86zM5.41 20L4 18.59l7.72-7.72 1.47 1.35L5.41 20z\"/>\n",
              "  </svg>\n",
              "      </button>\n",
              "      \n",
              "  <style>\n",
              "    .colab-df-container {\n",
              "      display:flex;\n",
              "      flex-wrap:wrap;\n",
              "      gap: 12px;\n",
              "    }\n",
              "\n",
              "    .colab-df-convert {\n",
              "      background-color: #E8F0FE;\n",
              "      border: none;\n",
              "      border-radius: 50%;\n",
              "      cursor: pointer;\n",
              "      display: none;\n",
              "      fill: #1967D2;\n",
              "      height: 32px;\n",
              "      padding: 0 0 0 0;\n",
              "      width: 32px;\n",
              "    }\n",
              "\n",
              "    .colab-df-convert:hover {\n",
              "      background-color: #E2EBFA;\n",
              "      box-shadow: 0px 1px 2px rgba(60, 64, 67, 0.3), 0px 1px 3px 1px rgba(60, 64, 67, 0.15);\n",
              "      fill: #174EA6;\n",
              "    }\n",
              "\n",
              "    [theme=dark] .colab-df-convert {\n",
              "      background-color: #3B4455;\n",
              "      fill: #D2E3FC;\n",
              "    }\n",
              "\n",
              "    [theme=dark] .colab-df-convert:hover {\n",
              "      background-color: #434B5C;\n",
              "      box-shadow: 0px 1px 3px 1px rgba(0, 0, 0, 0.15);\n",
              "      filter: drop-shadow(0px 1px 2px rgba(0, 0, 0, 0.3));\n",
              "      fill: #FFFFFF;\n",
              "    }\n",
              "  </style>\n",
              "\n",
              "      <script>\n",
              "        const buttonEl =\n",
              "          document.querySelector('#df-1e30f4e8-13c1-44a4-9469-f5f85f147093 button.colab-df-convert');\n",
              "        buttonEl.style.display =\n",
              "          google.colab.kernel.accessAllowed ? 'block' : 'none';\n",
              "\n",
              "        async function convertToInteractive(key) {\n",
              "          const element = document.querySelector('#df-1e30f4e8-13c1-44a4-9469-f5f85f147093');\n",
              "          const dataTable =\n",
              "            await google.colab.kernel.invokeFunction('convertToInteractive',\n",
              "                                                     [key], {});\n",
              "          if (!dataTable) return;\n",
              "\n",
              "          const docLinkHtml = 'Like what you see? Visit the ' +\n",
              "            '<a target=\"_blank\" href=https://colab.research.google.com/notebooks/data_table.ipynb>data table notebook</a>'\n",
              "            + ' to learn more about interactive tables.';\n",
              "          element.innerHTML = '';\n",
              "          dataTable['output_type'] = 'display_data';\n",
              "          await google.colab.output.renderOutput(dataTable, element);\n",
              "          const docLink = document.createElement('div');\n",
              "          docLink.innerHTML = docLinkHtml;\n",
              "          element.appendChild(docLink);\n",
              "        }\n",
              "      </script>\n",
              "    </div>\n",
              "  </div>\n",
              "  "
            ]
          },
          "metadata": {},
          "execution_count": 290
        }
      ]
    },
    {
      "cell_type": "code",
      "source": [
        "def cleanUpLocation(data):\n",
        "    data = re.sub(r'\\(',\" \",data)\n",
        "    data = re.sub(r'\\)',\" \",data)\n",
        "    data = re.sub(r'\\s+',' ',data)\n",
        "    return data\n",
        "X['location'] = X['location'].apply(cleanUpLocation)"
      ],
      "metadata": {
        "id": "R7eozorj7x5h"
      },
      "execution_count": 291,
      "outputs": []
    },
    {
      "cell_type": "code",
      "source": [
        "def cleanUpothers(data):\n",
        "    data = re.sub(r'\\(',\" \",data)\n",
        "    data = re.sub(r'\\)',\" \",data)\n",
        "    data = re.sub(r'&',\" \",data)\n",
        "    data = re.sub(r'$',\" \",data)\n",
        "    data = re.sub(r',',\" \",data)\n",
        "    data = re.sub(r';',\" \",data)\n",
        "    data = re.sub(r'(\\b\\s*-\\s*\\b)',\" \",data)\n",
        "    data = re.sub(r'\\s+',' ',data)\n",
        "    return data\n",
        "X['job_description'] = X['job_description'].apply(cleanUpothers)\n",
        "X['job_desig'] = X['job_desig'].apply(cleanUpothers)\n",
        "X['key_skills'] = X['key_skills'].apply(cleanUpothers)\n",
        "\n",
        "X.head(2)"
      ],
      "metadata": {
        "colab": {
          "base_uri": "https://localhost:8080/",
          "height": 191
        },
        "id": "7sy-9ysp8l70",
        "outputId": "8eddaad2-3d3c-4363-e8e3-475afdb3f05f"
      },
      "execution_count": 292,
      "outputs": [
        {
          "output_type": "execute_result",
          "data": {
            "text/plain": [
              "  experience                                    job_description  \\\n",
              "0    5-7 yrs  exp: minimum 5 years good understanding of ioc...   \n",
              "1  10-17 yrs  he should have handled a team of atleast 5 6 d...   \n",
              "\n",
              "                                      job_desig  \\\n",
              "0  senior exploit and vulnerability researcher    \n",
              "1                                     head scm    \n",
              "\n",
              "                                          key_skills               location  \\\n",
              "0  team skills communication skills analytical sk...  delhi ncr vikas puri    \n",
              "1  ppc logistics inventory management supply chai...                sonepat   \n",
              "\n",
              "   company_name_encoded  \n",
              "0                  3687  \n",
              "1                   458  "
            ],
            "text/html": [
              "\n",
              "  <div id=\"df-4bdce286-b2cb-4bab-b861-8af2438e40d4\">\n",
              "    <div class=\"colab-df-container\">\n",
              "      <div>\n",
              "<style scoped>\n",
              "    .dataframe tbody tr th:only-of-type {\n",
              "        vertical-align: middle;\n",
              "    }\n",
              "\n",
              "    .dataframe tbody tr th {\n",
              "        vertical-align: top;\n",
              "    }\n",
              "\n",
              "    .dataframe thead th {\n",
              "        text-align: right;\n",
              "    }\n",
              "</style>\n",
              "<table border=\"1\" class=\"dataframe\">\n",
              "  <thead>\n",
              "    <tr style=\"text-align: right;\">\n",
              "      <th></th>\n",
              "      <th>experience</th>\n",
              "      <th>job_description</th>\n",
              "      <th>job_desig</th>\n",
              "      <th>key_skills</th>\n",
              "      <th>location</th>\n",
              "      <th>company_name_encoded</th>\n",
              "    </tr>\n",
              "  </thead>\n",
              "  <tbody>\n",
              "    <tr>\n",
              "      <th>0</th>\n",
              "      <td>5-7 yrs</td>\n",
              "      <td>exp: minimum 5 years good understanding of ioc...</td>\n",
              "      <td>senior exploit and vulnerability researcher</td>\n",
              "      <td>team skills communication skills analytical sk...</td>\n",
              "      <td>delhi ncr vikas puri</td>\n",
              "      <td>3687</td>\n",
              "    </tr>\n",
              "    <tr>\n",
              "      <th>1</th>\n",
              "      <td>10-17 yrs</td>\n",
              "      <td>he should have handled a team of atleast 5 6 d...</td>\n",
              "      <td>head scm</td>\n",
              "      <td>ppc logistics inventory management supply chai...</td>\n",
              "      <td>sonepat</td>\n",
              "      <td>458</td>\n",
              "    </tr>\n",
              "  </tbody>\n",
              "</table>\n",
              "</div>\n",
              "      <button class=\"colab-df-convert\" onclick=\"convertToInteractive('df-4bdce286-b2cb-4bab-b861-8af2438e40d4')\"\n",
              "              title=\"Convert this dataframe to an interactive table.\"\n",
              "              style=\"display:none;\">\n",
              "        \n",
              "  <svg xmlns=\"http://www.w3.org/2000/svg\" height=\"24px\"viewBox=\"0 0 24 24\"\n",
              "       width=\"24px\">\n",
              "    <path d=\"M0 0h24v24H0V0z\" fill=\"none\"/>\n",
              "    <path d=\"M18.56 5.44l.94 2.06.94-2.06 2.06-.94-2.06-.94-.94-2.06-.94 2.06-2.06.94zm-11 1L8.5 8.5l.94-2.06 2.06-.94-2.06-.94L8.5 2.5l-.94 2.06-2.06.94zm10 10l.94 2.06.94-2.06 2.06-.94-2.06-.94-.94-2.06-.94 2.06-2.06.94z\"/><path d=\"M17.41 7.96l-1.37-1.37c-.4-.4-.92-.59-1.43-.59-.52 0-1.04.2-1.43.59L10.3 9.45l-7.72 7.72c-.78.78-.78 2.05 0 2.83L4 21.41c.39.39.9.59 1.41.59.51 0 1.02-.2 1.41-.59l7.78-7.78 2.81-2.81c.8-.78.8-2.07 0-2.86zM5.41 20L4 18.59l7.72-7.72 1.47 1.35L5.41 20z\"/>\n",
              "  </svg>\n",
              "      </button>\n",
              "      \n",
              "  <style>\n",
              "    .colab-df-container {\n",
              "      display:flex;\n",
              "      flex-wrap:wrap;\n",
              "      gap: 12px;\n",
              "    }\n",
              "\n",
              "    .colab-df-convert {\n",
              "      background-color: #E8F0FE;\n",
              "      border: none;\n",
              "      border-radius: 50%;\n",
              "      cursor: pointer;\n",
              "      display: none;\n",
              "      fill: #1967D2;\n",
              "      height: 32px;\n",
              "      padding: 0 0 0 0;\n",
              "      width: 32px;\n",
              "    }\n",
              "\n",
              "    .colab-df-convert:hover {\n",
              "      background-color: #E2EBFA;\n",
              "      box-shadow: 0px 1px 2px rgba(60, 64, 67, 0.3), 0px 1px 3px 1px rgba(60, 64, 67, 0.15);\n",
              "      fill: #174EA6;\n",
              "    }\n",
              "\n",
              "    [theme=dark] .colab-df-convert {\n",
              "      background-color: #3B4455;\n",
              "      fill: #D2E3FC;\n",
              "    }\n",
              "\n",
              "    [theme=dark] .colab-df-convert:hover {\n",
              "      background-color: #434B5C;\n",
              "      box-shadow: 0px 1px 3px 1px rgba(0, 0, 0, 0.15);\n",
              "      filter: drop-shadow(0px 1px 2px rgba(0, 0, 0, 0.3));\n",
              "      fill: #FFFFFF;\n",
              "    }\n",
              "  </style>\n",
              "\n",
              "      <script>\n",
              "        const buttonEl =\n",
              "          document.querySelector('#df-4bdce286-b2cb-4bab-b861-8af2438e40d4 button.colab-df-convert');\n",
              "        buttonEl.style.display =\n",
              "          google.colab.kernel.accessAllowed ? 'block' : 'none';\n",
              "\n",
              "        async function convertToInteractive(key) {\n",
              "          const element = document.querySelector('#df-4bdce286-b2cb-4bab-b861-8af2438e40d4');\n",
              "          const dataTable =\n",
              "            await google.colab.kernel.invokeFunction('convertToInteractive',\n",
              "                                                     [key], {});\n",
              "          if (!dataTable) return;\n",
              "\n",
              "          const docLinkHtml = 'Like what you see? Visit the ' +\n",
              "            '<a target=\"_blank\" href=https://colab.research.google.com/notebooks/data_table.ipynb>data table notebook</a>'\n",
              "            + ' to learn more about interactive tables.';\n",
              "          element.innerHTML = '';\n",
              "          dataTable['output_type'] = 'display_data';\n",
              "          await google.colab.output.renderOutput(dataTable, element);\n",
              "          const docLink = document.createElement('div');\n",
              "          docLink.innerHTML = docLinkHtml;\n",
              "          element.appendChild(docLink);\n",
              "        }\n",
              "      </script>\n",
              "    </div>\n",
              "  </div>\n",
              "  "
            ]
          },
          "metadata": {},
          "execution_count": 292
        }
      ]
    },
    {
      "cell_type": "code",
      "source": [
        "X['combined_text'] = X['job_description']+X['job_desig']+X['key_skills']+X['location']\n",
        "X.head(2)"
      ],
      "metadata": {
        "colab": {
          "base_uri": "https://localhost:8080/",
          "height": 225
        },
        "id": "iEpEDHso-cMh",
        "outputId": "bec1af01-ab59-456c-9c5e-0a6bb6cfd478"
      },
      "execution_count": 293,
      "outputs": [
        {
          "output_type": "execute_result",
          "data": {
            "text/plain": [
              "  experience                                    job_description  \\\n",
              "0    5-7 yrs  exp: minimum 5 years good understanding of ioc...   \n",
              "1  10-17 yrs  he should have handled a team of atleast 5 6 d...   \n",
              "\n",
              "                                      job_desig  \\\n",
              "0  senior exploit and vulnerability researcher    \n",
              "1                                     head scm    \n",
              "\n",
              "                                          key_skills               location  \\\n",
              "0  team skills communication skills analytical sk...  delhi ncr vikas puri    \n",
              "1  ppc logistics inventory management supply chai...                sonepat   \n",
              "\n",
              "   company_name_encoded                                      combined_text  \n",
              "0                  3687  exp: minimum 5 years good understanding of ioc...  \n",
              "1                   458  he should have handled a team of atleast 5 6 d...  "
            ],
            "text/html": [
              "\n",
              "  <div id=\"df-edfeba31-dbbf-472e-be57-ff1ce7da83b0\">\n",
              "    <div class=\"colab-df-container\">\n",
              "      <div>\n",
              "<style scoped>\n",
              "    .dataframe tbody tr th:only-of-type {\n",
              "        vertical-align: middle;\n",
              "    }\n",
              "\n",
              "    .dataframe tbody tr th {\n",
              "        vertical-align: top;\n",
              "    }\n",
              "\n",
              "    .dataframe thead th {\n",
              "        text-align: right;\n",
              "    }\n",
              "</style>\n",
              "<table border=\"1\" class=\"dataframe\">\n",
              "  <thead>\n",
              "    <tr style=\"text-align: right;\">\n",
              "      <th></th>\n",
              "      <th>experience</th>\n",
              "      <th>job_description</th>\n",
              "      <th>job_desig</th>\n",
              "      <th>key_skills</th>\n",
              "      <th>location</th>\n",
              "      <th>company_name_encoded</th>\n",
              "      <th>combined_text</th>\n",
              "    </tr>\n",
              "  </thead>\n",
              "  <tbody>\n",
              "    <tr>\n",
              "      <th>0</th>\n",
              "      <td>5-7 yrs</td>\n",
              "      <td>exp: minimum 5 years good understanding of ioc...</td>\n",
              "      <td>senior exploit and vulnerability researcher</td>\n",
              "      <td>team skills communication skills analytical sk...</td>\n",
              "      <td>delhi ncr vikas puri</td>\n",
              "      <td>3687</td>\n",
              "      <td>exp: minimum 5 years good understanding of ioc...</td>\n",
              "    </tr>\n",
              "    <tr>\n",
              "      <th>1</th>\n",
              "      <td>10-17 yrs</td>\n",
              "      <td>he should have handled a team of atleast 5 6 d...</td>\n",
              "      <td>head scm</td>\n",
              "      <td>ppc logistics inventory management supply chai...</td>\n",
              "      <td>sonepat</td>\n",
              "      <td>458</td>\n",
              "      <td>he should have handled a team of atleast 5 6 d...</td>\n",
              "    </tr>\n",
              "  </tbody>\n",
              "</table>\n",
              "</div>\n",
              "      <button class=\"colab-df-convert\" onclick=\"convertToInteractive('df-edfeba31-dbbf-472e-be57-ff1ce7da83b0')\"\n",
              "              title=\"Convert this dataframe to an interactive table.\"\n",
              "              style=\"display:none;\">\n",
              "        \n",
              "  <svg xmlns=\"http://www.w3.org/2000/svg\" height=\"24px\"viewBox=\"0 0 24 24\"\n",
              "       width=\"24px\">\n",
              "    <path d=\"M0 0h24v24H0V0z\" fill=\"none\"/>\n",
              "    <path d=\"M18.56 5.44l.94 2.06.94-2.06 2.06-.94-2.06-.94-.94-2.06-.94 2.06-2.06.94zm-11 1L8.5 8.5l.94-2.06 2.06-.94-2.06-.94L8.5 2.5l-.94 2.06-2.06.94zm10 10l.94 2.06.94-2.06 2.06-.94-2.06-.94-.94-2.06-.94 2.06-2.06.94z\"/><path d=\"M17.41 7.96l-1.37-1.37c-.4-.4-.92-.59-1.43-.59-.52 0-1.04.2-1.43.59L10.3 9.45l-7.72 7.72c-.78.78-.78 2.05 0 2.83L4 21.41c.39.39.9.59 1.41.59.51 0 1.02-.2 1.41-.59l7.78-7.78 2.81-2.81c.8-.78.8-2.07 0-2.86zM5.41 20L4 18.59l7.72-7.72 1.47 1.35L5.41 20z\"/>\n",
              "  </svg>\n",
              "      </button>\n",
              "      \n",
              "  <style>\n",
              "    .colab-df-container {\n",
              "      display:flex;\n",
              "      flex-wrap:wrap;\n",
              "      gap: 12px;\n",
              "    }\n",
              "\n",
              "    .colab-df-convert {\n",
              "      background-color: #E8F0FE;\n",
              "      border: none;\n",
              "      border-radius: 50%;\n",
              "      cursor: pointer;\n",
              "      display: none;\n",
              "      fill: #1967D2;\n",
              "      height: 32px;\n",
              "      padding: 0 0 0 0;\n",
              "      width: 32px;\n",
              "    }\n",
              "\n",
              "    .colab-df-convert:hover {\n",
              "      background-color: #E2EBFA;\n",
              "      box-shadow: 0px 1px 2px rgba(60, 64, 67, 0.3), 0px 1px 3px 1px rgba(60, 64, 67, 0.15);\n",
              "      fill: #174EA6;\n",
              "    }\n",
              "\n",
              "    [theme=dark] .colab-df-convert {\n",
              "      background-color: #3B4455;\n",
              "      fill: #D2E3FC;\n",
              "    }\n",
              "\n",
              "    [theme=dark] .colab-df-convert:hover {\n",
              "      background-color: #434B5C;\n",
              "      box-shadow: 0px 1px 3px 1px rgba(0, 0, 0, 0.15);\n",
              "      filter: drop-shadow(0px 1px 2px rgba(0, 0, 0, 0.3));\n",
              "      fill: #FFFFFF;\n",
              "    }\n",
              "  </style>\n",
              "\n",
              "      <script>\n",
              "        const buttonEl =\n",
              "          document.querySelector('#df-edfeba31-dbbf-472e-be57-ff1ce7da83b0 button.colab-df-convert');\n",
              "        buttonEl.style.display =\n",
              "          google.colab.kernel.accessAllowed ? 'block' : 'none';\n",
              "\n",
              "        async function convertToInteractive(key) {\n",
              "          const element = document.querySelector('#df-edfeba31-dbbf-472e-be57-ff1ce7da83b0');\n",
              "          const dataTable =\n",
              "            await google.colab.kernel.invokeFunction('convertToInteractive',\n",
              "                                                     [key], {});\n",
              "          if (!dataTable) return;\n",
              "\n",
              "          const docLinkHtml = 'Like what you see? Visit the ' +\n",
              "            '<a target=\"_blank\" href=https://colab.research.google.com/notebooks/data_table.ipynb>data table notebook</a>'\n",
              "            + ' to learn more about interactive tables.';\n",
              "          element.innerHTML = '';\n",
              "          dataTable['output_type'] = 'display_data';\n",
              "          await google.colab.output.renderOutput(dataTable, element);\n",
              "          const docLink = document.createElement('div');\n",
              "          docLink.innerHTML = docLinkHtml;\n",
              "          element.appendChild(docLink);\n",
              "        }\n",
              "      </script>\n",
              "    </div>\n",
              "  </div>\n",
              "  "
            ]
          },
          "metadata": {},
          "execution_count": 293
        }
      ]
    },
    {
      "cell_type": "code",
      "source": [
        "X = X[['combined_text','experience','company_name_encoded']]\n",
        "X.head(2)"
      ],
      "metadata": {
        "colab": {
          "base_uri": "https://localhost:8080/",
          "height": 112
        },
        "id": "oDodZ20C-jUn",
        "outputId": "f90ca671-3e8a-490c-b9b1-af540ad90270"
      },
      "execution_count": 294,
      "outputs": [
        {
          "output_type": "execute_result",
          "data": {
            "text/plain": [
              "                                       combined_text experience  \\\n",
              "0  exp: minimum 5 years good understanding of ioc...    5-7 yrs   \n",
              "1  he should have handled a team of atleast 5 6 d...  10-17 yrs   \n",
              "\n",
              "   company_name_encoded  \n",
              "0                  3687  \n",
              "1                   458  "
            ],
            "text/html": [
              "\n",
              "  <div id=\"df-cce48431-b600-4337-a19f-71d154f8a3fc\">\n",
              "    <div class=\"colab-df-container\">\n",
              "      <div>\n",
              "<style scoped>\n",
              "    .dataframe tbody tr th:only-of-type {\n",
              "        vertical-align: middle;\n",
              "    }\n",
              "\n",
              "    .dataframe tbody tr th {\n",
              "        vertical-align: top;\n",
              "    }\n",
              "\n",
              "    .dataframe thead th {\n",
              "        text-align: right;\n",
              "    }\n",
              "</style>\n",
              "<table border=\"1\" class=\"dataframe\">\n",
              "  <thead>\n",
              "    <tr style=\"text-align: right;\">\n",
              "      <th></th>\n",
              "      <th>combined_text</th>\n",
              "      <th>experience</th>\n",
              "      <th>company_name_encoded</th>\n",
              "    </tr>\n",
              "  </thead>\n",
              "  <tbody>\n",
              "    <tr>\n",
              "      <th>0</th>\n",
              "      <td>exp: minimum 5 years good understanding of ioc...</td>\n",
              "      <td>5-7 yrs</td>\n",
              "      <td>3687</td>\n",
              "    </tr>\n",
              "    <tr>\n",
              "      <th>1</th>\n",
              "      <td>he should have handled a team of atleast 5 6 d...</td>\n",
              "      <td>10-17 yrs</td>\n",
              "      <td>458</td>\n",
              "    </tr>\n",
              "  </tbody>\n",
              "</table>\n",
              "</div>\n",
              "      <button class=\"colab-df-convert\" onclick=\"convertToInteractive('df-cce48431-b600-4337-a19f-71d154f8a3fc')\"\n",
              "              title=\"Convert this dataframe to an interactive table.\"\n",
              "              style=\"display:none;\">\n",
              "        \n",
              "  <svg xmlns=\"http://www.w3.org/2000/svg\" height=\"24px\"viewBox=\"0 0 24 24\"\n",
              "       width=\"24px\">\n",
              "    <path d=\"M0 0h24v24H0V0z\" fill=\"none\"/>\n",
              "    <path d=\"M18.56 5.44l.94 2.06.94-2.06 2.06-.94-2.06-.94-.94-2.06-.94 2.06-2.06.94zm-11 1L8.5 8.5l.94-2.06 2.06-.94-2.06-.94L8.5 2.5l-.94 2.06-2.06.94zm10 10l.94 2.06.94-2.06 2.06-.94-2.06-.94-.94-2.06-.94 2.06-2.06.94z\"/><path d=\"M17.41 7.96l-1.37-1.37c-.4-.4-.92-.59-1.43-.59-.52 0-1.04.2-1.43.59L10.3 9.45l-7.72 7.72c-.78.78-.78 2.05 0 2.83L4 21.41c.39.39.9.59 1.41.59.51 0 1.02-.2 1.41-.59l7.78-7.78 2.81-2.81c.8-.78.8-2.07 0-2.86zM5.41 20L4 18.59l7.72-7.72 1.47 1.35L5.41 20z\"/>\n",
              "  </svg>\n",
              "      </button>\n",
              "      \n",
              "  <style>\n",
              "    .colab-df-container {\n",
              "      display:flex;\n",
              "      flex-wrap:wrap;\n",
              "      gap: 12px;\n",
              "    }\n",
              "\n",
              "    .colab-df-convert {\n",
              "      background-color: #E8F0FE;\n",
              "      border: none;\n",
              "      border-radius: 50%;\n",
              "      cursor: pointer;\n",
              "      display: none;\n",
              "      fill: #1967D2;\n",
              "      height: 32px;\n",
              "      padding: 0 0 0 0;\n",
              "      width: 32px;\n",
              "    }\n",
              "\n",
              "    .colab-df-convert:hover {\n",
              "      background-color: #E2EBFA;\n",
              "      box-shadow: 0px 1px 2px rgba(60, 64, 67, 0.3), 0px 1px 3px 1px rgba(60, 64, 67, 0.15);\n",
              "      fill: #174EA6;\n",
              "    }\n",
              "\n",
              "    [theme=dark] .colab-df-convert {\n",
              "      background-color: #3B4455;\n",
              "      fill: #D2E3FC;\n",
              "    }\n",
              "\n",
              "    [theme=dark] .colab-df-convert:hover {\n",
              "      background-color: #434B5C;\n",
              "      box-shadow: 0px 1px 3px 1px rgba(0, 0, 0, 0.15);\n",
              "      filter: drop-shadow(0px 1px 2px rgba(0, 0, 0, 0.3));\n",
              "      fill: #FFFFFF;\n",
              "    }\n",
              "  </style>\n",
              "\n",
              "      <script>\n",
              "        const buttonEl =\n",
              "          document.querySelector('#df-cce48431-b600-4337-a19f-71d154f8a3fc button.colab-df-convert');\n",
              "        buttonEl.style.display =\n",
              "          google.colab.kernel.accessAllowed ? 'block' : 'none';\n",
              "\n",
              "        async function convertToInteractive(key) {\n",
              "          const element = document.querySelector('#df-cce48431-b600-4337-a19f-71d154f8a3fc');\n",
              "          const dataTable =\n",
              "            await google.colab.kernel.invokeFunction('convertToInteractive',\n",
              "                                                     [key], {});\n",
              "          if (!dataTable) return;\n",
              "\n",
              "          const docLinkHtml = 'Like what you see? Visit the ' +\n",
              "            '<a target=\"_blank\" href=https://colab.research.google.com/notebooks/data_table.ipynb>data table notebook</a>'\n",
              "            + ' to learn more about interactive tables.';\n",
              "          element.innerHTML = '';\n",
              "          dataTable['output_type'] = 'display_data';\n",
              "          await google.colab.output.renderOutput(dataTable, element);\n",
              "          const docLink = document.createElement('div');\n",
              "          docLink.innerHTML = docLinkHtml;\n",
              "          element.appendChild(docLink);\n",
              "        }\n",
              "      </script>\n",
              "    </div>\n",
              "  </div>\n",
              "  "
            ]
          },
          "metadata": {},
          "execution_count": 294
        }
      ]
    },
    {
      "cell_type": "code",
      "source": [
        "def min_exp(exp):\n",
        "    val = re.sub(r'\\-',' ', exp)\n",
        "    val = val.split(' ')\n",
        "    val = int(val[0])\n",
        "    return val\n",
        "\n",
        "def max_exp(exp):\n",
        "    val = re.sub(r'\\-',' ', exp)\n",
        "    val = val.split(' ')\n",
        "    val = int(val[1])\n",
        "    return val\n",
        "X['min_exp'] = X['experience'].apply(min_exp)\n",
        "X['max_exp'] = X['experience'].apply(max_exp)"
      ],
      "metadata": {
        "id": "RvXyOZ1MLxwq"
      },
      "execution_count": 295,
      "outputs": []
    },
    {
      "cell_type": "code",
      "source": [
        "X.head(2)"
      ],
      "metadata": {
        "colab": {
          "base_uri": "https://localhost:8080/",
          "height": 112
        },
        "id": "Z8ExguO7MD65",
        "outputId": "cbab81ea-447f-4fcb-93d4-3de5d180c050"
      },
      "execution_count": 296,
      "outputs": [
        {
          "output_type": "execute_result",
          "data": {
            "text/plain": [
              "                                       combined_text experience  \\\n",
              "0  exp: minimum 5 years good understanding of ioc...    5-7 yrs   \n",
              "1  he should have handled a team of atleast 5 6 d...  10-17 yrs   \n",
              "\n",
              "   company_name_encoded  min_exp  max_exp  \n",
              "0                  3687        5        7  \n",
              "1                   458       10       17  "
            ],
            "text/html": [
              "\n",
              "  <div id=\"df-ad88b06c-4a6b-49a1-ae3b-e31d5e53b8a6\">\n",
              "    <div class=\"colab-df-container\">\n",
              "      <div>\n",
              "<style scoped>\n",
              "    .dataframe tbody tr th:only-of-type {\n",
              "        vertical-align: middle;\n",
              "    }\n",
              "\n",
              "    .dataframe tbody tr th {\n",
              "        vertical-align: top;\n",
              "    }\n",
              "\n",
              "    .dataframe thead th {\n",
              "        text-align: right;\n",
              "    }\n",
              "</style>\n",
              "<table border=\"1\" class=\"dataframe\">\n",
              "  <thead>\n",
              "    <tr style=\"text-align: right;\">\n",
              "      <th></th>\n",
              "      <th>combined_text</th>\n",
              "      <th>experience</th>\n",
              "      <th>company_name_encoded</th>\n",
              "      <th>min_exp</th>\n",
              "      <th>max_exp</th>\n",
              "    </tr>\n",
              "  </thead>\n",
              "  <tbody>\n",
              "    <tr>\n",
              "      <th>0</th>\n",
              "      <td>exp: minimum 5 years good understanding of ioc...</td>\n",
              "      <td>5-7 yrs</td>\n",
              "      <td>3687</td>\n",
              "      <td>5</td>\n",
              "      <td>7</td>\n",
              "    </tr>\n",
              "    <tr>\n",
              "      <th>1</th>\n",
              "      <td>he should have handled a team of atleast 5 6 d...</td>\n",
              "      <td>10-17 yrs</td>\n",
              "      <td>458</td>\n",
              "      <td>10</td>\n",
              "      <td>17</td>\n",
              "    </tr>\n",
              "  </tbody>\n",
              "</table>\n",
              "</div>\n",
              "      <button class=\"colab-df-convert\" onclick=\"convertToInteractive('df-ad88b06c-4a6b-49a1-ae3b-e31d5e53b8a6')\"\n",
              "              title=\"Convert this dataframe to an interactive table.\"\n",
              "              style=\"display:none;\">\n",
              "        \n",
              "  <svg xmlns=\"http://www.w3.org/2000/svg\" height=\"24px\"viewBox=\"0 0 24 24\"\n",
              "       width=\"24px\">\n",
              "    <path d=\"M0 0h24v24H0V0z\" fill=\"none\"/>\n",
              "    <path d=\"M18.56 5.44l.94 2.06.94-2.06 2.06-.94-2.06-.94-.94-2.06-.94 2.06-2.06.94zm-11 1L8.5 8.5l.94-2.06 2.06-.94-2.06-.94L8.5 2.5l-.94 2.06-2.06.94zm10 10l.94 2.06.94-2.06 2.06-.94-2.06-.94-.94-2.06-.94 2.06-2.06.94z\"/><path d=\"M17.41 7.96l-1.37-1.37c-.4-.4-.92-.59-1.43-.59-.52 0-1.04.2-1.43.59L10.3 9.45l-7.72 7.72c-.78.78-.78 2.05 0 2.83L4 21.41c.39.39.9.59 1.41.59.51 0 1.02-.2 1.41-.59l7.78-7.78 2.81-2.81c.8-.78.8-2.07 0-2.86zM5.41 20L4 18.59l7.72-7.72 1.47 1.35L5.41 20z\"/>\n",
              "  </svg>\n",
              "      </button>\n",
              "      \n",
              "  <style>\n",
              "    .colab-df-container {\n",
              "      display:flex;\n",
              "      flex-wrap:wrap;\n",
              "      gap: 12px;\n",
              "    }\n",
              "\n",
              "    .colab-df-convert {\n",
              "      background-color: #E8F0FE;\n",
              "      border: none;\n",
              "      border-radius: 50%;\n",
              "      cursor: pointer;\n",
              "      display: none;\n",
              "      fill: #1967D2;\n",
              "      height: 32px;\n",
              "      padding: 0 0 0 0;\n",
              "      width: 32px;\n",
              "    }\n",
              "\n",
              "    .colab-df-convert:hover {\n",
              "      background-color: #E2EBFA;\n",
              "      box-shadow: 0px 1px 2px rgba(60, 64, 67, 0.3), 0px 1px 3px 1px rgba(60, 64, 67, 0.15);\n",
              "      fill: #174EA6;\n",
              "    }\n",
              "\n",
              "    [theme=dark] .colab-df-convert {\n",
              "      background-color: #3B4455;\n",
              "      fill: #D2E3FC;\n",
              "    }\n",
              "\n",
              "    [theme=dark] .colab-df-convert:hover {\n",
              "      background-color: #434B5C;\n",
              "      box-shadow: 0px 1px 3px 1px rgba(0, 0, 0, 0.15);\n",
              "      filter: drop-shadow(0px 1px 2px rgba(0, 0, 0, 0.3));\n",
              "      fill: #FFFFFF;\n",
              "    }\n",
              "  </style>\n",
              "\n",
              "      <script>\n",
              "        const buttonEl =\n",
              "          document.querySelector('#df-ad88b06c-4a6b-49a1-ae3b-e31d5e53b8a6 button.colab-df-convert');\n",
              "        buttonEl.style.display =\n",
              "          google.colab.kernel.accessAllowed ? 'block' : 'none';\n",
              "\n",
              "        async function convertToInteractive(key) {\n",
              "          const element = document.querySelector('#df-ad88b06c-4a6b-49a1-ae3b-e31d5e53b8a6');\n",
              "          const dataTable =\n",
              "            await google.colab.kernel.invokeFunction('convertToInteractive',\n",
              "                                                     [key], {});\n",
              "          if (!dataTable) return;\n",
              "\n",
              "          const docLinkHtml = 'Like what you see? Visit the ' +\n",
              "            '<a target=\"_blank\" href=https://colab.research.google.com/notebooks/data_table.ipynb>data table notebook</a>'\n",
              "            + ' to learn more about interactive tables.';\n",
              "          element.innerHTML = '';\n",
              "          dataTable['output_type'] = 'display_data';\n",
              "          await google.colab.output.renderOutput(dataTable, element);\n",
              "          const docLink = document.createElement('div');\n",
              "          docLink.innerHTML = docLinkHtml;\n",
              "          element.appendChild(docLink);\n",
              "        }\n",
              "      </script>\n",
              "    </div>\n",
              "  </div>\n",
              "  "
            ]
          },
          "metadata": {},
          "execution_count": 296
        }
      ]
    },
    {
      "cell_type": "code",
      "source": [
        "X = X[['combined_text','min_exp','max_exp','company_name_encoded']]\n",
        "X.head(2)"
      ],
      "metadata": {
        "colab": {
          "base_uri": "https://localhost:8080/",
          "height": 112
        },
        "id": "Op7EcfVOMHCU",
        "outputId": "42701c66-da6c-4851-f7f0-0fa14d9ae368"
      },
      "execution_count": 297,
      "outputs": [
        {
          "output_type": "execute_result",
          "data": {
            "text/plain": [
              "                                       combined_text  min_exp  max_exp  \\\n",
              "0  exp: minimum 5 years good understanding of ioc...        5        7   \n",
              "1  he should have handled a team of atleast 5 6 d...       10       17   \n",
              "\n",
              "   company_name_encoded  \n",
              "0                  3687  \n",
              "1                   458  "
            ],
            "text/html": [
              "\n",
              "  <div id=\"df-1de02af1-8000-40d2-90c0-80abf55f78c4\">\n",
              "    <div class=\"colab-df-container\">\n",
              "      <div>\n",
              "<style scoped>\n",
              "    .dataframe tbody tr th:only-of-type {\n",
              "        vertical-align: middle;\n",
              "    }\n",
              "\n",
              "    .dataframe tbody tr th {\n",
              "        vertical-align: top;\n",
              "    }\n",
              "\n",
              "    .dataframe thead th {\n",
              "        text-align: right;\n",
              "    }\n",
              "</style>\n",
              "<table border=\"1\" class=\"dataframe\">\n",
              "  <thead>\n",
              "    <tr style=\"text-align: right;\">\n",
              "      <th></th>\n",
              "      <th>combined_text</th>\n",
              "      <th>min_exp</th>\n",
              "      <th>max_exp</th>\n",
              "      <th>company_name_encoded</th>\n",
              "    </tr>\n",
              "  </thead>\n",
              "  <tbody>\n",
              "    <tr>\n",
              "      <th>0</th>\n",
              "      <td>exp: minimum 5 years good understanding of ioc...</td>\n",
              "      <td>5</td>\n",
              "      <td>7</td>\n",
              "      <td>3687</td>\n",
              "    </tr>\n",
              "    <tr>\n",
              "      <th>1</th>\n",
              "      <td>he should have handled a team of atleast 5 6 d...</td>\n",
              "      <td>10</td>\n",
              "      <td>17</td>\n",
              "      <td>458</td>\n",
              "    </tr>\n",
              "  </tbody>\n",
              "</table>\n",
              "</div>\n",
              "      <button class=\"colab-df-convert\" onclick=\"convertToInteractive('df-1de02af1-8000-40d2-90c0-80abf55f78c4')\"\n",
              "              title=\"Convert this dataframe to an interactive table.\"\n",
              "              style=\"display:none;\">\n",
              "        \n",
              "  <svg xmlns=\"http://www.w3.org/2000/svg\" height=\"24px\"viewBox=\"0 0 24 24\"\n",
              "       width=\"24px\">\n",
              "    <path d=\"M0 0h24v24H0V0z\" fill=\"none\"/>\n",
              "    <path d=\"M18.56 5.44l.94 2.06.94-2.06 2.06-.94-2.06-.94-.94-2.06-.94 2.06-2.06.94zm-11 1L8.5 8.5l.94-2.06 2.06-.94-2.06-.94L8.5 2.5l-.94 2.06-2.06.94zm10 10l.94 2.06.94-2.06 2.06-.94-2.06-.94-.94-2.06-.94 2.06-2.06.94z\"/><path d=\"M17.41 7.96l-1.37-1.37c-.4-.4-.92-.59-1.43-.59-.52 0-1.04.2-1.43.59L10.3 9.45l-7.72 7.72c-.78.78-.78 2.05 0 2.83L4 21.41c.39.39.9.59 1.41.59.51 0 1.02-.2 1.41-.59l7.78-7.78 2.81-2.81c.8-.78.8-2.07 0-2.86zM5.41 20L4 18.59l7.72-7.72 1.47 1.35L5.41 20z\"/>\n",
              "  </svg>\n",
              "      </button>\n",
              "      \n",
              "  <style>\n",
              "    .colab-df-container {\n",
              "      display:flex;\n",
              "      flex-wrap:wrap;\n",
              "      gap: 12px;\n",
              "    }\n",
              "\n",
              "    .colab-df-convert {\n",
              "      background-color: #E8F0FE;\n",
              "      border: none;\n",
              "      border-radius: 50%;\n",
              "      cursor: pointer;\n",
              "      display: none;\n",
              "      fill: #1967D2;\n",
              "      height: 32px;\n",
              "      padding: 0 0 0 0;\n",
              "      width: 32px;\n",
              "    }\n",
              "\n",
              "    .colab-df-convert:hover {\n",
              "      background-color: #E2EBFA;\n",
              "      box-shadow: 0px 1px 2px rgba(60, 64, 67, 0.3), 0px 1px 3px 1px rgba(60, 64, 67, 0.15);\n",
              "      fill: #174EA6;\n",
              "    }\n",
              "\n",
              "    [theme=dark] .colab-df-convert {\n",
              "      background-color: #3B4455;\n",
              "      fill: #D2E3FC;\n",
              "    }\n",
              "\n",
              "    [theme=dark] .colab-df-convert:hover {\n",
              "      background-color: #434B5C;\n",
              "      box-shadow: 0px 1px 3px 1px rgba(0, 0, 0, 0.15);\n",
              "      filter: drop-shadow(0px 1px 2px rgba(0, 0, 0, 0.3));\n",
              "      fill: #FFFFFF;\n",
              "    }\n",
              "  </style>\n",
              "\n",
              "      <script>\n",
              "        const buttonEl =\n",
              "          document.querySelector('#df-1de02af1-8000-40d2-90c0-80abf55f78c4 button.colab-df-convert');\n",
              "        buttonEl.style.display =\n",
              "          google.colab.kernel.accessAllowed ? 'block' : 'none';\n",
              "\n",
              "        async function convertToInteractive(key) {\n",
              "          const element = document.querySelector('#df-1de02af1-8000-40d2-90c0-80abf55f78c4');\n",
              "          const dataTable =\n",
              "            await google.colab.kernel.invokeFunction('convertToInteractive',\n",
              "                                                     [key], {});\n",
              "          if (!dataTable) return;\n",
              "\n",
              "          const docLinkHtml = 'Like what you see? Visit the ' +\n",
              "            '<a target=\"_blank\" href=https://colab.research.google.com/notebooks/data_table.ipynb>data table notebook</a>'\n",
              "            + ' to learn more about interactive tables.';\n",
              "          element.innerHTML = '';\n",
              "          dataTable['output_type'] = 'display_data';\n",
              "          await google.colab.output.renderOutput(dataTable, element);\n",
              "          const docLink = document.createElement('div');\n",
              "          docLink.innerHTML = docLinkHtml;\n",
              "          element.appendChild(docLink);\n",
              "        }\n",
              "      </script>\n",
              "    </div>\n",
              "  </div>\n",
              "  "
            ]
          },
          "metadata": {},
          "execution_count": 297
        }
      ]
    },
    {
      "cell_type": "markdown",
      "source": [
        "NLTK"
      ],
      "metadata": {
        "id": "MwuvO1mYAe3E"
      }
    },
    {
      "cell_type": "code",
      "source": [
        "import nltk\n",
        "nltk.download('wordnet')\n",
        "nltk.download('punkt')"
      ],
      "metadata": {
        "colab": {
          "base_uri": "https://localhost:8080/"
        },
        "id": "DinNLMbyNrfQ",
        "outputId": "d6012161-6e12-4480-a55a-cb4a1046d241"
      },
      "execution_count": 298,
      "outputs": [
        {
          "output_type": "stream",
          "name": "stdout",
          "text": [
            "[nltk_data] Downloading package wordnet to /root/nltk_data...\n",
            "[nltk_data]   Package wordnet is already up-to-date!\n",
            "[nltk_data] Downloading package punkt to /root/nltk_data...\n",
            "[nltk_data]   Package punkt is already up-to-date!\n"
          ]
        },
        {
          "output_type": "execute_result",
          "data": {
            "text/plain": [
              "True"
            ]
          },
          "metadata": {},
          "execution_count": 298
        }
      ]
    },
    {
      "cell_type": "code",
      "source": [
        "from nltk.stem import WordNetLemmatizer\n",
        "from nltk.tokenize import word_tokenize\n",
        "lem = WordNetLemmatizer()"
      ],
      "metadata": {
        "id": "bhQ-zy_RMnM_"
      },
      "execution_count": 299,
      "outputs": []
    },
    {
      "cell_type": "code",
      "source": [
        "def lemmitize(data):\n",
        "    words = word_tokenize(data)\n",
        "    j = ''\n",
        "    for i in words:\n",
        "        try:\n",
        "            j+=lem.lemmatize(i,pos='a')+' '\n",
        "        except:\n",
        "            # pass\n",
        "            try:\n",
        "                j+=lem.lemmatize(i,pos='n')+' '\n",
        "            except:\n",
        "                # pass\n",
        "                try:\n",
        "                    j+=lem.lemmatize(i,pos='v')+' '\n",
        "                except:\n",
        "                    j+=i+' '\n",
        "    return j"
      ],
      "metadata": {
        "id": "k48vlH6eNwe_"
      },
      "execution_count": 300,
      "outputs": []
    },
    {
      "cell_type": "code",
      "source": [
        "X['combined_text'] = X['combined_text'].apply(lemmitize)"
      ],
      "metadata": {
        "id": "j4fgz5SxPTP7"
      },
      "execution_count": 301,
      "outputs": []
    },
    {
      "cell_type": "code",
      "source": [
        "X.head(2)"
      ],
      "metadata": {
        "colab": {
          "base_uri": "https://localhost:8080/",
          "height": 112
        },
        "id": "Nm5S5Y2GP-6H",
        "outputId": "03391f30-a85f-4e96-d6d0-679004151f40"
      },
      "execution_count": 302,
      "outputs": [
        {
          "output_type": "execute_result",
          "data": {
            "text/plain": [
              "                                       combined_text  min_exp  max_exp  \\\n",
              "0  exp : minimum 5 years good understanding of io...        5        7   \n",
              "1  he should have handled a team of atleast 5 6 d...       10       17   \n",
              "\n",
              "   company_name_encoded  \n",
              "0                  3687  \n",
              "1                   458  "
            ],
            "text/html": [
              "\n",
              "  <div id=\"df-b7afa25a-380a-4a01-b567-ce780bf24bf1\">\n",
              "    <div class=\"colab-df-container\">\n",
              "      <div>\n",
              "<style scoped>\n",
              "    .dataframe tbody tr th:only-of-type {\n",
              "        vertical-align: middle;\n",
              "    }\n",
              "\n",
              "    .dataframe tbody tr th {\n",
              "        vertical-align: top;\n",
              "    }\n",
              "\n",
              "    .dataframe thead th {\n",
              "        text-align: right;\n",
              "    }\n",
              "</style>\n",
              "<table border=\"1\" class=\"dataframe\">\n",
              "  <thead>\n",
              "    <tr style=\"text-align: right;\">\n",
              "      <th></th>\n",
              "      <th>combined_text</th>\n",
              "      <th>min_exp</th>\n",
              "      <th>max_exp</th>\n",
              "      <th>company_name_encoded</th>\n",
              "    </tr>\n",
              "  </thead>\n",
              "  <tbody>\n",
              "    <tr>\n",
              "      <th>0</th>\n",
              "      <td>exp : minimum 5 years good understanding of io...</td>\n",
              "      <td>5</td>\n",
              "      <td>7</td>\n",
              "      <td>3687</td>\n",
              "    </tr>\n",
              "    <tr>\n",
              "      <th>1</th>\n",
              "      <td>he should have handled a team of atleast 5 6 d...</td>\n",
              "      <td>10</td>\n",
              "      <td>17</td>\n",
              "      <td>458</td>\n",
              "    </tr>\n",
              "  </tbody>\n",
              "</table>\n",
              "</div>\n",
              "      <button class=\"colab-df-convert\" onclick=\"convertToInteractive('df-b7afa25a-380a-4a01-b567-ce780bf24bf1')\"\n",
              "              title=\"Convert this dataframe to an interactive table.\"\n",
              "              style=\"display:none;\">\n",
              "        \n",
              "  <svg xmlns=\"http://www.w3.org/2000/svg\" height=\"24px\"viewBox=\"0 0 24 24\"\n",
              "       width=\"24px\">\n",
              "    <path d=\"M0 0h24v24H0V0z\" fill=\"none\"/>\n",
              "    <path d=\"M18.56 5.44l.94 2.06.94-2.06 2.06-.94-2.06-.94-.94-2.06-.94 2.06-2.06.94zm-11 1L8.5 8.5l.94-2.06 2.06-.94-2.06-.94L8.5 2.5l-.94 2.06-2.06.94zm10 10l.94 2.06.94-2.06 2.06-.94-2.06-.94-.94-2.06-.94 2.06-2.06.94z\"/><path d=\"M17.41 7.96l-1.37-1.37c-.4-.4-.92-.59-1.43-.59-.52 0-1.04.2-1.43.59L10.3 9.45l-7.72 7.72c-.78.78-.78 2.05 0 2.83L4 21.41c.39.39.9.59 1.41.59.51 0 1.02-.2 1.41-.59l7.78-7.78 2.81-2.81c.8-.78.8-2.07 0-2.86zM5.41 20L4 18.59l7.72-7.72 1.47 1.35L5.41 20z\"/>\n",
              "  </svg>\n",
              "      </button>\n",
              "      \n",
              "  <style>\n",
              "    .colab-df-container {\n",
              "      display:flex;\n",
              "      flex-wrap:wrap;\n",
              "      gap: 12px;\n",
              "    }\n",
              "\n",
              "    .colab-df-convert {\n",
              "      background-color: #E8F0FE;\n",
              "      border: none;\n",
              "      border-radius: 50%;\n",
              "      cursor: pointer;\n",
              "      display: none;\n",
              "      fill: #1967D2;\n",
              "      height: 32px;\n",
              "      padding: 0 0 0 0;\n",
              "      width: 32px;\n",
              "    }\n",
              "\n",
              "    .colab-df-convert:hover {\n",
              "      background-color: #E2EBFA;\n",
              "      box-shadow: 0px 1px 2px rgba(60, 64, 67, 0.3), 0px 1px 3px 1px rgba(60, 64, 67, 0.15);\n",
              "      fill: #174EA6;\n",
              "    }\n",
              "\n",
              "    [theme=dark] .colab-df-convert {\n",
              "      background-color: #3B4455;\n",
              "      fill: #D2E3FC;\n",
              "    }\n",
              "\n",
              "    [theme=dark] .colab-df-convert:hover {\n",
              "      background-color: #434B5C;\n",
              "      box-shadow: 0px 1px 3px 1px rgba(0, 0, 0, 0.15);\n",
              "      filter: drop-shadow(0px 1px 2px rgba(0, 0, 0, 0.3));\n",
              "      fill: #FFFFFF;\n",
              "    }\n",
              "  </style>\n",
              "\n",
              "      <script>\n",
              "        const buttonEl =\n",
              "          document.querySelector('#df-b7afa25a-380a-4a01-b567-ce780bf24bf1 button.colab-df-convert');\n",
              "        buttonEl.style.display =\n",
              "          google.colab.kernel.accessAllowed ? 'block' : 'none';\n",
              "\n",
              "        async function convertToInteractive(key) {\n",
              "          const element = document.querySelector('#df-b7afa25a-380a-4a01-b567-ce780bf24bf1');\n",
              "          const dataTable =\n",
              "            await google.colab.kernel.invokeFunction('convertToInteractive',\n",
              "                                                     [key], {});\n",
              "          if (!dataTable) return;\n",
              "\n",
              "          const docLinkHtml = 'Like what you see? Visit the ' +\n",
              "            '<a target=\"_blank\" href=https://colab.research.google.com/notebooks/data_table.ipynb>data table notebook</a>'\n",
              "            + ' to learn more about interactive tables.';\n",
              "          element.innerHTML = '';\n",
              "          dataTable['output_type'] = 'display_data';\n",
              "          await google.colab.output.renderOutput(dataTable, element);\n",
              "          const docLink = document.createElement('div');\n",
              "          docLink.innerHTML = docLinkHtml;\n",
              "          element.appendChild(docLink);\n",
              "        }\n",
              "      </script>\n",
              "    </div>\n",
              "  </div>\n",
              "  "
            ]
          },
          "metadata": {},
          "execution_count": 302
        }
      ]
    },
    {
      "cell_type": "markdown",
      "source": [
        "Now the data is preprocessed. Lets split into train test split."
      ],
      "metadata": {
        "id": "4-GDqbteRBFx"
      }
    },
    {
      "cell_type": "code",
      "source": [
        "from sklearn.feature_extraction.text import TfidfVectorizer, CountVectorizer"
      ],
      "metadata": {
        "id": "XAmZEpDNQbrT"
      },
      "execution_count": 303,
      "outputs": []
    },
    {
      "cell_type": "code",
      "source": [
        "from sklearn.model_selection import train_test_split as tts\n",
        "X_train, X_val, Y_train, Y_val = tts(X,Y,train_size = 0.8, random_state = 1,stratify=Y)"
      ],
      "metadata": {
        "id": "vEiYOPUcQlFr"
      },
      "execution_count": 304,
      "outputs": []
    },
    {
      "cell_type": "code",
      "source": [
        "X_train.head(2)"
      ],
      "metadata": {
        "colab": {
          "base_uri": "https://localhost:8080/",
          "height": 112
        },
        "id": "mIy_HcHjTB-x",
        "outputId": "0ebc910d-4485-445b-d29d-cc04f80b6be9"
      },
      "execution_count": 305,
      "outputs": [
        {
          "output_type": "execute_result",
          "data": {
            "text/plain": [
              "                                           combined_text  min_exp  max_exp  \\\n",
              "17166  strong sas background is must experience : 2 1...        2        7   \n",
              "9098   - minimum 5 years serving in a role for human ...        5       10   \n",
              "\n",
              "       company_name_encoded  \n",
              "17166                  2574  \n",
              "9098                   2778  "
            ],
            "text/html": [
              "\n",
              "  <div id=\"df-0b1d3831-1ac7-4787-b0ab-5b24ea4e1402\">\n",
              "    <div class=\"colab-df-container\">\n",
              "      <div>\n",
              "<style scoped>\n",
              "    .dataframe tbody tr th:only-of-type {\n",
              "        vertical-align: middle;\n",
              "    }\n",
              "\n",
              "    .dataframe tbody tr th {\n",
              "        vertical-align: top;\n",
              "    }\n",
              "\n",
              "    .dataframe thead th {\n",
              "        text-align: right;\n",
              "    }\n",
              "</style>\n",
              "<table border=\"1\" class=\"dataframe\">\n",
              "  <thead>\n",
              "    <tr style=\"text-align: right;\">\n",
              "      <th></th>\n",
              "      <th>combined_text</th>\n",
              "      <th>min_exp</th>\n",
              "      <th>max_exp</th>\n",
              "      <th>company_name_encoded</th>\n",
              "    </tr>\n",
              "  </thead>\n",
              "  <tbody>\n",
              "    <tr>\n",
              "      <th>17166</th>\n",
              "      <td>strong sas background is must experience : 2 1...</td>\n",
              "      <td>2</td>\n",
              "      <td>7</td>\n",
              "      <td>2574</td>\n",
              "    </tr>\n",
              "    <tr>\n",
              "      <th>9098</th>\n",
              "      <td>- minimum 5 years serving in a role for human ...</td>\n",
              "      <td>5</td>\n",
              "      <td>10</td>\n",
              "      <td>2778</td>\n",
              "    </tr>\n",
              "  </tbody>\n",
              "</table>\n",
              "</div>\n",
              "      <button class=\"colab-df-convert\" onclick=\"convertToInteractive('df-0b1d3831-1ac7-4787-b0ab-5b24ea4e1402')\"\n",
              "              title=\"Convert this dataframe to an interactive table.\"\n",
              "              style=\"display:none;\">\n",
              "        \n",
              "  <svg xmlns=\"http://www.w3.org/2000/svg\" height=\"24px\"viewBox=\"0 0 24 24\"\n",
              "       width=\"24px\">\n",
              "    <path d=\"M0 0h24v24H0V0z\" fill=\"none\"/>\n",
              "    <path d=\"M18.56 5.44l.94 2.06.94-2.06 2.06-.94-2.06-.94-.94-2.06-.94 2.06-2.06.94zm-11 1L8.5 8.5l.94-2.06 2.06-.94-2.06-.94L8.5 2.5l-.94 2.06-2.06.94zm10 10l.94 2.06.94-2.06 2.06-.94-2.06-.94-.94-2.06-.94 2.06-2.06.94z\"/><path d=\"M17.41 7.96l-1.37-1.37c-.4-.4-.92-.59-1.43-.59-.52 0-1.04.2-1.43.59L10.3 9.45l-7.72 7.72c-.78.78-.78 2.05 0 2.83L4 21.41c.39.39.9.59 1.41.59.51 0 1.02-.2 1.41-.59l7.78-7.78 2.81-2.81c.8-.78.8-2.07 0-2.86zM5.41 20L4 18.59l7.72-7.72 1.47 1.35L5.41 20z\"/>\n",
              "  </svg>\n",
              "      </button>\n",
              "      \n",
              "  <style>\n",
              "    .colab-df-container {\n",
              "      display:flex;\n",
              "      flex-wrap:wrap;\n",
              "      gap: 12px;\n",
              "    }\n",
              "\n",
              "    .colab-df-convert {\n",
              "      background-color: #E8F0FE;\n",
              "      border: none;\n",
              "      border-radius: 50%;\n",
              "      cursor: pointer;\n",
              "      display: none;\n",
              "      fill: #1967D2;\n",
              "      height: 32px;\n",
              "      padding: 0 0 0 0;\n",
              "      width: 32px;\n",
              "    }\n",
              "\n",
              "    .colab-df-convert:hover {\n",
              "      background-color: #E2EBFA;\n",
              "      box-shadow: 0px 1px 2px rgba(60, 64, 67, 0.3), 0px 1px 3px 1px rgba(60, 64, 67, 0.15);\n",
              "      fill: #174EA6;\n",
              "    }\n",
              "\n",
              "    [theme=dark] .colab-df-convert {\n",
              "      background-color: #3B4455;\n",
              "      fill: #D2E3FC;\n",
              "    }\n",
              "\n",
              "    [theme=dark] .colab-df-convert:hover {\n",
              "      background-color: #434B5C;\n",
              "      box-shadow: 0px 1px 3px 1px rgba(0, 0, 0, 0.15);\n",
              "      filter: drop-shadow(0px 1px 2px rgba(0, 0, 0, 0.3));\n",
              "      fill: #FFFFFF;\n",
              "    }\n",
              "  </style>\n",
              "\n",
              "      <script>\n",
              "        const buttonEl =\n",
              "          document.querySelector('#df-0b1d3831-1ac7-4787-b0ab-5b24ea4e1402 button.colab-df-convert');\n",
              "        buttonEl.style.display =\n",
              "          google.colab.kernel.accessAllowed ? 'block' : 'none';\n",
              "\n",
              "        async function convertToInteractive(key) {\n",
              "          const element = document.querySelector('#df-0b1d3831-1ac7-4787-b0ab-5b24ea4e1402');\n",
              "          const dataTable =\n",
              "            await google.colab.kernel.invokeFunction('convertToInteractive',\n",
              "                                                     [key], {});\n",
              "          if (!dataTable) return;\n",
              "\n",
              "          const docLinkHtml = 'Like what you see? Visit the ' +\n",
              "            '<a target=\"_blank\" href=https://colab.research.google.com/notebooks/data_table.ipynb>data table notebook</a>'\n",
              "            + ' to learn more about interactive tables.';\n",
              "          element.innerHTML = '';\n",
              "          dataTable['output_type'] = 'display_data';\n",
              "          await google.colab.output.renderOutput(dataTable, element);\n",
              "          const docLink = document.createElement('div');\n",
              "          docLink.innerHTML = docLinkHtml;\n",
              "          element.appendChild(docLink);\n",
              "        }\n",
              "      </script>\n",
              "    </div>\n",
              "  </div>\n",
              "  "
            ]
          },
          "metadata": {},
          "execution_count": 305
        }
      ]
    },
    {
      "cell_type": "code",
      "source": [
        "corpus  = list(X_train['combined_text'])"
      ],
      "metadata": {
        "id": "SPyD6DBJTJUJ"
      },
      "execution_count": 306,
      "outputs": []
    },
    {
      "cell_type": "code",
      "source": [
        "X_train.shape"
      ],
      "metadata": {
        "colab": {
          "base_uri": "https://localhost:8080/"
        },
        "id": "7UqdwsugVy8r",
        "outputId": "b9e45e10-7b0c-47b6-9d6b-bf4b320fc74c"
      },
      "execution_count": 307,
      "outputs": [
        {
          "output_type": "execute_result",
          "data": {
            "text/plain": [
              "(15840, 4)"
            ]
          },
          "metadata": {},
          "execution_count": 307
        }
      ]
    },
    {
      "cell_type": "code",
      "source": [
        "from sklearn.metrics import classification_report"
      ],
      "metadata": {
        "id": "PDz9xEDI1JD0"
      },
      "execution_count": 350,
      "outputs": []
    },
    {
      "cell_type": "markdown",
      "source": [
        "## **Case 1 => No smoothing**"
      ],
      "metadata": {
        "id": "QxeQAHx4SzNi"
      }
    },
    {
      "cell_type": "code",
      "source": [
        "target_names = ['class 0', 'class 1', 'class 2','class 3','class 4','class 5']\n"
      ],
      "metadata": {
        "id": "sYBMlWfC1PTU"
      },
      "execution_count": 353,
      "outputs": []
    },
    {
      "cell_type": "code",
      "source": [
        "vectorizer1 = TfidfVectorizer(smooth_idf=False,min_df=0.1, max_df = 0.9)"
      ],
      "metadata": {
        "id": "3cFfANfLRlPg"
      },
      "execution_count": 354,
      "outputs": []
    },
    {
      "cell_type": "code",
      "source": [
        "X_train_vec1 = pd.DataFrame(vectorizer1.fit_transform(X_train['combined_text']).toarray())\n",
        "X_val_vec1 = pd.DataFrame(vectorizer1.transform(X_val['combined_text']).toarray())"
      ],
      "metadata": {
        "id": "jaXro02bTlgb"
      },
      "execution_count": 355,
      "outputs": []
    },
    {
      "cell_type": "code",
      "source": [
        "X_train_vec1.shape"
      ],
      "metadata": {
        "colab": {
          "base_uri": "https://localhost:8080/"
        },
        "id": "fZiSgAo5soij",
        "outputId": "b8d9cbad-bbb6-44e6-8427-44112984796f"
      },
      "execution_count": 356,
      "outputs": [
        {
          "output_type": "execute_result",
          "data": {
            "text/plain": [
              "(15840, 29)"
            ]
          },
          "metadata": {},
          "execution_count": 356
        }
      ]
    },
    {
      "cell_type": "code",
      "source": [
        "X_train_vec1[29] = X_train.iloc[:,1].values\n",
        "X_train_vec1[30] = X_train.iloc[:,2].values\n",
        "X_train_vec1[31] = X_train.iloc[:,3].values\n",
        "X_val_vec1[29] = X_val.iloc[:,1].values\n",
        "X_val_vec1[30] = X_val.iloc[:,2].values\n",
        "X_val_vec1[31] = X_val.iloc[:,3].values"
      ],
      "metadata": {
        "id": "-rX3jAugWz0Q"
      },
      "execution_count": 357,
      "outputs": []
    },
    {
      "cell_type": "code",
      "source": [
        "X_val.info()"
      ],
      "metadata": {
        "colab": {
          "base_uri": "https://localhost:8080/"
        },
        "id": "PKXVjBD9g2-3",
        "outputId": "83154b00-d5ea-4973-ce9f-a527ab1e439b"
      },
      "execution_count": 358,
      "outputs": [
        {
          "output_type": "stream",
          "name": "stdout",
          "text": [
            "<class 'pandas.core.frame.DataFrame'>\n",
            "Int64Index: 3961 entries, 15188 to 6721\n",
            "Data columns (total 4 columns):\n",
            " #   Column                Non-Null Count  Dtype \n",
            "---  ------                --------------  ----- \n",
            " 0   combined_text         3961 non-null   object\n",
            " 1   min_exp               3961 non-null   int64 \n",
            " 2   max_exp               3961 non-null   int64 \n",
            " 3   company_name_encoded  3961 non-null   int64 \n",
            "dtypes: int64(3), object(1)\n",
            "memory usage: 154.7+ KB\n"
          ]
        }
      ]
    },
    {
      "cell_type": "code",
      "source": [
        "X_val_vec1.info()"
      ],
      "metadata": {
        "colab": {
          "base_uri": "https://localhost:8080/"
        },
        "id": "qNdK6EnPf8H2",
        "outputId": "4f78a574-acf7-4833-854b-799b2cb63e57"
      },
      "execution_count": 359,
      "outputs": [
        {
          "output_type": "stream",
          "name": "stdout",
          "text": [
            "<class 'pandas.core.frame.DataFrame'>\n",
            "RangeIndex: 3961 entries, 0 to 3960\n",
            "Data columns (total 32 columns):\n",
            " #   Column  Non-Null Count  Dtype  \n",
            "---  ------  --------------  -----  \n",
            " 0   0       3961 non-null   float64\n",
            " 1   1       3961 non-null   float64\n",
            " 2   2       3961 non-null   float64\n",
            " 3   3       3961 non-null   float64\n",
            " 4   4       3961 non-null   float64\n",
            " 5   5       3961 non-null   float64\n",
            " 6   6       3961 non-null   float64\n",
            " 7   7       3961 non-null   float64\n",
            " 8   8       3961 non-null   float64\n",
            " 9   9       3961 non-null   float64\n",
            " 10  10      3961 non-null   float64\n",
            " 11  11      3961 non-null   float64\n",
            " 12  12      3961 non-null   float64\n",
            " 13  13      3961 non-null   float64\n",
            " 14  14      3961 non-null   float64\n",
            " 15  15      3961 non-null   float64\n",
            " 16  16      3961 non-null   float64\n",
            " 17  17      3961 non-null   float64\n",
            " 18  18      3961 non-null   float64\n",
            " 19  19      3961 non-null   float64\n",
            " 20  20      3961 non-null   float64\n",
            " 21  21      3961 non-null   float64\n",
            " 22  22      3961 non-null   float64\n",
            " 23  23      3961 non-null   float64\n",
            " 24  24      3961 non-null   float64\n",
            " 25  25      3961 non-null   float64\n",
            " 26  26      3961 non-null   float64\n",
            " 27  27      3961 non-null   float64\n",
            " 28  28      3961 non-null   float64\n",
            " 29  29      3961 non-null   int64  \n",
            " 30  30      3961 non-null   int64  \n",
            " 31  31      3961 non-null   int64  \n",
            "dtypes: float64(29), int64(3)\n",
            "memory usage: 990.4 KB\n"
          ]
        }
      ]
    },
    {
      "cell_type": "code",
      "source": [
        "X_train_vec1.head(2)"
      ],
      "metadata": {
        "colab": {
          "base_uri": "https://localhost:8080/",
          "height": 141
        },
        "id": "JaWyJAb2UG-n",
        "outputId": "75c92c8d-8779-467c-9771-5bb69498ad78"
      },
      "execution_count": 360,
      "outputs": [
        {
          "output_type": "execute_result",
          "data": {
            "text/plain": [
              "    0    1         2    3    4         5         6    7         8    9   ...  \\\n",
              "0  0.0  0.0  0.795774  0.0  0.0  0.242498  0.000000  0.0  0.335133  0.0  ...   \n",
              "1  0.0  0.0  0.215770  0.0  0.0  0.197256  0.672904  0.0  0.000000  0.0  ...   \n",
              "\n",
              "         22   23   24   25   26   27        28  29  30    31  \n",
              "0  0.000000  0.0  0.0  0.0  0.0  0.0  0.275680   2   7  2574  \n",
              "1  0.531999  0.0  0.0  0.0  0.0  0.0  0.224248   5  10  2778  \n",
              "\n",
              "[2 rows x 32 columns]"
            ],
            "text/html": [
              "\n",
              "  <div id=\"df-a8e7f940-dd29-4acc-bc79-a4ab8e78243c\">\n",
              "    <div class=\"colab-df-container\">\n",
              "      <div>\n",
              "<style scoped>\n",
              "    .dataframe tbody tr th:only-of-type {\n",
              "        vertical-align: middle;\n",
              "    }\n",
              "\n",
              "    .dataframe tbody tr th {\n",
              "        vertical-align: top;\n",
              "    }\n",
              "\n",
              "    .dataframe thead th {\n",
              "        text-align: right;\n",
              "    }\n",
              "</style>\n",
              "<table border=\"1\" class=\"dataframe\">\n",
              "  <thead>\n",
              "    <tr style=\"text-align: right;\">\n",
              "      <th></th>\n",
              "      <th>0</th>\n",
              "      <th>1</th>\n",
              "      <th>2</th>\n",
              "      <th>3</th>\n",
              "      <th>4</th>\n",
              "      <th>5</th>\n",
              "      <th>6</th>\n",
              "      <th>7</th>\n",
              "      <th>8</th>\n",
              "      <th>9</th>\n",
              "      <th>...</th>\n",
              "      <th>22</th>\n",
              "      <th>23</th>\n",
              "      <th>24</th>\n",
              "      <th>25</th>\n",
              "      <th>26</th>\n",
              "      <th>27</th>\n",
              "      <th>28</th>\n",
              "      <th>29</th>\n",
              "      <th>30</th>\n",
              "      <th>31</th>\n",
              "    </tr>\n",
              "  </thead>\n",
              "  <tbody>\n",
              "    <tr>\n",
              "      <th>0</th>\n",
              "      <td>0.0</td>\n",
              "      <td>0.0</td>\n",
              "      <td>0.795774</td>\n",
              "      <td>0.0</td>\n",
              "      <td>0.0</td>\n",
              "      <td>0.242498</td>\n",
              "      <td>0.000000</td>\n",
              "      <td>0.0</td>\n",
              "      <td>0.335133</td>\n",
              "      <td>0.0</td>\n",
              "      <td>...</td>\n",
              "      <td>0.000000</td>\n",
              "      <td>0.0</td>\n",
              "      <td>0.0</td>\n",
              "      <td>0.0</td>\n",
              "      <td>0.0</td>\n",
              "      <td>0.0</td>\n",
              "      <td>0.275680</td>\n",
              "      <td>2</td>\n",
              "      <td>7</td>\n",
              "      <td>2574</td>\n",
              "    </tr>\n",
              "    <tr>\n",
              "      <th>1</th>\n",
              "      <td>0.0</td>\n",
              "      <td>0.0</td>\n",
              "      <td>0.215770</td>\n",
              "      <td>0.0</td>\n",
              "      <td>0.0</td>\n",
              "      <td>0.197256</td>\n",
              "      <td>0.672904</td>\n",
              "      <td>0.0</td>\n",
              "      <td>0.000000</td>\n",
              "      <td>0.0</td>\n",
              "      <td>...</td>\n",
              "      <td>0.531999</td>\n",
              "      <td>0.0</td>\n",
              "      <td>0.0</td>\n",
              "      <td>0.0</td>\n",
              "      <td>0.0</td>\n",
              "      <td>0.0</td>\n",
              "      <td>0.224248</td>\n",
              "      <td>5</td>\n",
              "      <td>10</td>\n",
              "      <td>2778</td>\n",
              "    </tr>\n",
              "  </tbody>\n",
              "</table>\n",
              "<p>2 rows × 32 columns</p>\n",
              "</div>\n",
              "      <button class=\"colab-df-convert\" onclick=\"convertToInteractive('df-a8e7f940-dd29-4acc-bc79-a4ab8e78243c')\"\n",
              "              title=\"Convert this dataframe to an interactive table.\"\n",
              "              style=\"display:none;\">\n",
              "        \n",
              "  <svg xmlns=\"http://www.w3.org/2000/svg\" height=\"24px\"viewBox=\"0 0 24 24\"\n",
              "       width=\"24px\">\n",
              "    <path d=\"M0 0h24v24H0V0z\" fill=\"none\"/>\n",
              "    <path d=\"M18.56 5.44l.94 2.06.94-2.06 2.06-.94-2.06-.94-.94-2.06-.94 2.06-2.06.94zm-11 1L8.5 8.5l.94-2.06 2.06-.94-2.06-.94L8.5 2.5l-.94 2.06-2.06.94zm10 10l.94 2.06.94-2.06 2.06-.94-2.06-.94-.94-2.06-.94 2.06-2.06.94z\"/><path d=\"M17.41 7.96l-1.37-1.37c-.4-.4-.92-.59-1.43-.59-.52 0-1.04.2-1.43.59L10.3 9.45l-7.72 7.72c-.78.78-.78 2.05 0 2.83L4 21.41c.39.39.9.59 1.41.59.51 0 1.02-.2 1.41-.59l7.78-7.78 2.81-2.81c.8-.78.8-2.07 0-2.86zM5.41 20L4 18.59l7.72-7.72 1.47 1.35L5.41 20z\"/>\n",
              "  </svg>\n",
              "      </button>\n",
              "      \n",
              "  <style>\n",
              "    .colab-df-container {\n",
              "      display:flex;\n",
              "      flex-wrap:wrap;\n",
              "      gap: 12px;\n",
              "    }\n",
              "\n",
              "    .colab-df-convert {\n",
              "      background-color: #E8F0FE;\n",
              "      border: none;\n",
              "      border-radius: 50%;\n",
              "      cursor: pointer;\n",
              "      display: none;\n",
              "      fill: #1967D2;\n",
              "      height: 32px;\n",
              "      padding: 0 0 0 0;\n",
              "      width: 32px;\n",
              "    }\n",
              "\n",
              "    .colab-df-convert:hover {\n",
              "      background-color: #E2EBFA;\n",
              "      box-shadow: 0px 1px 2px rgba(60, 64, 67, 0.3), 0px 1px 3px 1px rgba(60, 64, 67, 0.15);\n",
              "      fill: #174EA6;\n",
              "    }\n",
              "\n",
              "    [theme=dark] .colab-df-convert {\n",
              "      background-color: #3B4455;\n",
              "      fill: #D2E3FC;\n",
              "    }\n",
              "\n",
              "    [theme=dark] .colab-df-convert:hover {\n",
              "      background-color: #434B5C;\n",
              "      box-shadow: 0px 1px 3px 1px rgba(0, 0, 0, 0.15);\n",
              "      filter: drop-shadow(0px 1px 2px rgba(0, 0, 0, 0.3));\n",
              "      fill: #FFFFFF;\n",
              "    }\n",
              "  </style>\n",
              "\n",
              "      <script>\n",
              "        const buttonEl =\n",
              "          document.querySelector('#df-a8e7f940-dd29-4acc-bc79-a4ab8e78243c button.colab-df-convert');\n",
              "        buttonEl.style.display =\n",
              "          google.colab.kernel.accessAllowed ? 'block' : 'none';\n",
              "\n",
              "        async function convertToInteractive(key) {\n",
              "          const element = document.querySelector('#df-a8e7f940-dd29-4acc-bc79-a4ab8e78243c');\n",
              "          const dataTable =\n",
              "            await google.colab.kernel.invokeFunction('convertToInteractive',\n",
              "                                                     [key], {});\n",
              "          if (!dataTable) return;\n",
              "\n",
              "          const docLinkHtml = 'Like what you see? Visit the ' +\n",
              "            '<a target=\"_blank\" href=https://colab.research.google.com/notebooks/data_table.ipynb>data table notebook</a>'\n",
              "            + ' to learn more about interactive tables.';\n",
              "          element.innerHTML = '';\n",
              "          dataTable['output_type'] = 'display_data';\n",
              "          await google.colab.output.renderOutput(dataTable, element);\n",
              "          const docLink = document.createElement('div');\n",
              "          docLink.innerHTML = docLinkHtml;\n",
              "          element.appendChild(docLink);\n",
              "        }\n",
              "      </script>\n",
              "    </div>\n",
              "  </div>\n",
              "  "
            ]
          },
          "metadata": {},
          "execution_count": 360
        }
      ]
    },
    {
      "cell_type": "code",
      "source": [
        "import seaborn as sns\n",
        "sns.pairplot(X_train_vec1.loc[:,:5])"
      ],
      "metadata": {
        "colab": {
          "base_uri": "https://localhost:8080/",
          "height": 1000
        },
        "id": "rgexc3g6Wjoe",
        "outputId": "ea48cd07-ff56-4d7d-8022-f3bb3aa6aca9"
      },
      "execution_count": 361,
      "outputs": [
        {
          "output_type": "execute_result",
          "data": {
            "text/plain": [
              "<seaborn.axisgrid.PairGrid at 0x7fa9eeb5a1d0>"
            ]
          },
          "metadata": {},
          "execution_count": 361
        },
        {
          "output_type": "display_data",
          "data": {
            "text/plain": [
              "<Figure size 1080x1080 with 42 Axes>"
            ],
            "image/png": "[encoded data removed]"
          },
          "metadata": {
            "needs_background": "light"
          }
        }
      ]
    },
    {
      "cell_type": "code",
      "source": [
        "X_train_vec1.info()"
      ],
      "metadata": {
        "colab": {
          "base_uri": "https://localhost:8080/"
        },
        "id": "jOhdcgQbY9j1",
        "outputId": "d6f0eb1d-9e32-4992-8848-cf0b85069268"
      },
      "execution_count": 362,
      "outputs": [
        {
          "output_type": "stream",
          "name": "stdout",
          "text": [
            "<class 'pandas.core.frame.DataFrame'>\n",
            "RangeIndex: 15840 entries, 0 to 15839\n",
            "Data columns (total 32 columns):\n",
            " #   Column  Non-Null Count  Dtype  \n",
            "---  ------  --------------  -----  \n",
            " 0   0       15840 non-null  float64\n",
            " 1   1       15840 non-null  float64\n",
            " 2   2       15840 non-null  float64\n",
            " 3   3       15840 non-null  float64\n",
            " 4   4       15840 non-null  float64\n",
            " 5   5       15840 non-null  float64\n",
            " 6   6       15840 non-null  float64\n",
            " 7   7       15840 non-null  float64\n",
            " 8   8       15840 non-null  float64\n",
            " 9   9       15840 non-null  float64\n",
            " 10  10      15840 non-null  float64\n",
            " 11  11      15840 non-null  float64\n",
            " 12  12      15840 non-null  float64\n",
            " 13  13      15840 non-null  float64\n",
            " 14  14      15840 non-null  float64\n",
            " 15  15      15840 non-null  float64\n",
            " 16  16      15840 non-null  float64\n",
            " 17  17      15840 non-null  float64\n",
            " 18  18      15840 non-null  float64\n",
            " 19  19      15840 non-null  float64\n",
            " 20  20      15840 non-null  float64\n",
            " 21  21      15840 non-null  float64\n",
            " 22  22      15840 non-null  float64\n",
            " 23  23      15840 non-null  float64\n",
            " 24  24      15840 non-null  float64\n",
            " 25  25      15840 non-null  float64\n",
            " 26  26      15840 non-null  float64\n",
            " 27  27      15840 non-null  float64\n",
            " 28  28      15840 non-null  float64\n",
            " 29  29      15840 non-null  int64  \n",
            " 30  30      15840 non-null  int64  \n",
            " 31  31      15840 non-null  int64  \n",
            "dtypes: float64(29), int64(3)\n",
            "memory usage: 3.9 MB\n"
          ]
        }
      ]
    },
    {
      "cell_type": "code",
      "source": [
        "Y.nunique()"
      ],
      "metadata": {
        "colab": {
          "base_uri": "https://localhost:8080/"
        },
        "id": "aJvw04--bTX6",
        "outputId": "ebb57400-2f1a-4c25-8e14-d18a78f06fbb"
      },
      "execution_count": 363,
      "outputs": [
        {
          "output_type": "execute_result",
          "data": {
            "text/plain": [
              "6"
            ]
          },
          "metadata": {},
          "execution_count": 363
        }
      ]
    },
    {
      "cell_type": "code",
      "source": [
        "from sklearn.metrics import accuracy_score as acc"
      ],
      "metadata": {
        "id": "iayq9GzOZxhd"
      },
      "execution_count": 364,
      "outputs": []
    },
    {
      "cell_type": "markdown",
      "source": [
        "### Model1"
      ],
      "metadata": {
        "id": "exQGBXYDWRt3"
      }
    },
    {
      "cell_type": "code",
      "source": [
        "from lightgbm import LGBMClassifier as LGBM\n",
        "n_estimators = np.arange(start= 40, stop = 150, step = 20)\n",
        "# n_estimators = np.arange(start= 100, stop = 1500, step = 250)\n",
        "accuracies = []\n",
        "train_acc = []\n",
        "for i in n_estimators:\n",
        "    lgbm = LGBM(random_state = 1,n_estimators=i,objective='multiclass',num_class = 6,learning_rate=0.075)\n",
        "    # X_train_vec1.fillna(0,inplace=True)\n",
        "    lgbm.fit(X_train_vec1,Y_train)\n",
        "    y_pred_lgbm1 = lgbm.predict(X_val_vec1)\n",
        "    print(f\"Validation Accuracy is {acc(Y_val,y_pred_lgbm1)} for n_estimators: {i}\")\n",
        "    accuracies.append(acc(Y_val,y_pred_lgbm1))\n",
        "    train_acc.append(acc(Y_train,lgbm.predict(X_train_vec1)))"
      ],
      "metadata": {
        "colab": {
          "base_uri": "https://localhost:8080/"
        },
        "id": "M4XMTw5BZYRc",
        "outputId": "6d837c48-d702-481a-b24d-750916a075b0"
      },
      "execution_count": 365,
      "outputs": [
        {
          "output_type": "stream",
          "name": "stdout",
          "text": [
            "Validation Accuracy is 0.4493814693259278 for n_estimators: 40\n",
            "Validation Accuracy is 0.45140116132289826 for n_estimators: 60\n",
            "Validation Accuracy is 0.45114869982327693 for n_estimators: 80\n",
            "Validation Accuracy is 0.4466043928300934 for n_estimators: 100\n",
            "Validation Accuracy is 0.4433223933350164 for n_estimators: 120\n",
            "Validation Accuracy is 0.44256500883615246 for n_estimators: 140\n"
          ]
        }
      ]
    },
    {
      "cell_type": "code",
      "source": [
        "import matplotlib.pyplot as plt\n",
        "plt.plot(n_estimators,accuracies)\n",
        "plt.plot(n_estimators,train_acc)\n",
        "plt.title('LightGBM')\n",
        "plt.xlabel('n_estimators')\n",
        "plt.ylabel('accuracies')\n",
        "plt.legend(['val_acc','train_acc'])"
      ],
      "metadata": {
        "colab": {
          "base_uri": "https://localhost:8080/",
          "height": 314
        },
        "id": "8A3pEXXNc2SZ",
        "outputId": "a46c4172-4a01-4542-a81e-ec9bb96f7580"
      },
      "execution_count": 366,
      "outputs": [
        {
          "output_type": "execute_result",
          "data": {
            "text/plain": [
              "<matplotlib.legend.Legend at 0x7fa9eda43550>"
            ]
          },
          "metadata": {},
          "execution_count": 366
        },
        {
          "output_type": "display_data",
          "data": {
            "text/plain": [
              "<Figure size 432x288 with 1 Axes>"
            ],
            "image/png": "[encoded data removed]"
          },
          "metadata": {
            "needs_background": "light"
          }
        }
      ]
    },
    {
      "cell_type": "code",
      "source": [
        "print(classification_report(Y_val, y_pred_lgbm1, target_names=target_names))"
      ],
      "metadata": {
        "colab": {
          "base_uri": "https://localhost:8080/"
        },
        "id": "Iv1N7ixu1aqp",
        "outputId": "0b72021b-2ae0-4aa7-889d-9731e49affc0"
      },
      "execution_count": 368,
      "outputs": [
        {
          "output_type": "stream",
          "name": "stdout",
          "text": [
            "              precision    recall  f1-score   support\n",
            "\n",
            "     class 0       0.61      0.76      0.68       649\n",
            "     class 1       0.39      0.40      0.39       900\n",
            "     class 2       0.41      0.56      0.47       825\n",
            "     class 3       0.57      0.44      0.50       315\n",
            "     class 4       0.38      0.25      0.30       565\n",
            "     class 5       0.32      0.23      0.27       707\n",
            "\n",
            "    accuracy                           0.44      3961\n",
            "   macro avg       0.45      0.44      0.44      3961\n",
            "weighted avg       0.43      0.44      0.43      3961\n",
            "\n"
          ]
        }
      ]
    },
    {
      "cell_type": "markdown",
      "source": [
        "### Model 2"
      ],
      "metadata": {
        "id": "5DNABlfHeH6i"
      }
    },
    {
      "cell_type": "code",
      "source": [
        "from sklearn.svm import SVC\n",
        "SVC = SVC(random_state = 1)\n",
        "SVC.fit(X_train_vec1,Y_train)\n",
        "y_pred_SVC1 = SVC.predict(X_val_vec1)"
      ],
      "metadata": {
        "id": "kRJC0xANUWqx"
      },
      "execution_count": 369,
      "outputs": []
    },
    {
      "cell_type": "code",
      "source": [
        "print(f\"Validation Accuracy is {acc(Y_val,y_pred_SVC1)}\")"
      ],
      "metadata": {
        "colab": {
          "base_uri": "https://localhost:8080/"
        },
        "id": "-Dy_5BZBXsEe",
        "outputId": "40b5ae19-4152-4947-a96b-a79a62ce0980"
      },
      "execution_count": 322,
      "outputs": [
        {
          "output_type": "stream",
          "name": "stdout",
          "text": [
            "Validation Accuracy is 0.23201211815198183\n"
          ]
        }
      ]
    },
    {
      "cell_type": "code",
      "source": [
        "print(classification_report(Y_val, y_pred_SVC1, target_names=target_names))"
      ],
      "metadata": {
        "colab": {
          "base_uri": "https://localhost:8080/"
        },
        "id": "Y2gv4GVz1120",
        "outputId": "62f0543d-f89d-4eed-9108-fe1e7b81c232"
      },
      "execution_count": 370,
      "outputs": [
        {
          "output_type": "stream",
          "name": "stdout",
          "text": [
            "              precision    recall  f1-score   support\n",
            "\n",
            "     class 0       0.00      0.00      0.00       649\n",
            "     class 1       0.23      0.88      0.37       900\n",
            "     class 2       0.00      0.00      0.00       825\n",
            "     class 3       0.00      0.00      0.00       315\n",
            "     class 4       0.00      0.00      0.00       565\n",
            "     class 5       0.23      0.18      0.20       707\n",
            "\n",
            "    accuracy                           0.23      3961\n",
            "   macro avg       0.08      0.18      0.09      3961\n",
            "weighted avg       0.09      0.23      0.12      3961\n",
            "\n"
          ]
        },
        {
          "output_type": "stream",
          "name": "stderr",
          "text": [
            "/usr/local/lib/python3.7/dist-packages/sklearn/metrics/_classification.py:1318: UndefinedMetricWarning: Precision and F-score are ill-defined and being set to 0.0 in labels with no predicted samples. Use `zero_division` parameter to control this behavior.\n",
            "  _warn_prf(average, modifier, msg_start, len(result))\n",
            "/usr/local/lib/python3.7/dist-packages/sklearn/metrics/_classification.py:1318: UndefinedMetricWarning: Precision and F-score are ill-defined and being set to 0.0 in labels with no predicted samples. Use `zero_division` parameter to control this behavior.\n",
            "  _warn_prf(average, modifier, msg_start, len(result))\n",
            "/usr/local/lib/python3.7/dist-packages/sklearn/metrics/_classification.py:1318: UndefinedMetricWarning: Precision and F-score are ill-defined and being set to 0.0 in labels with no predicted samples. Use `zero_division` parameter to control this behavior.\n",
            "  _warn_prf(average, modifier, msg_start, len(result))\n"
          ]
        }
      ]
    },
    {
      "cell_type": "markdown",
      "source": [
        "### Model 3"
      ],
      "metadata": {
        "id": "CkFy4ra9ilji"
      }
    },
    {
      "cell_type": "code",
      "source": [
        "from sklearn.ensemble import RandomForestClassifier as rfc\n",
        "accuraciesRFC = []\n",
        "n_estimators = [80,100,120,150]\n",
        "for i in n_estimators:\n",
        "    RFC = rfc(random_state = 1,n_estimators=i)\n",
        "    RFC.fit(X_train_vec1,Y_train)\n",
        "    y_pred_RFC1 = RFC.predict(X_val_vec1)\n",
        "    print(f\"Validation Accuracy is {acc(Y_val,y_pred_SVC1)}\")\n",
        "    accuraciesRFC.append(acc(Y_val,y_pred_SVC1))"
      ],
      "metadata": {
        "colab": {
          "base_uri": "https://localhost:8080/"
        },
        "id": "whecKD2dioJt",
        "outputId": "e2b53c39-c86f-484e-efa9-8936c861abc7"
      },
      "execution_count": 371,
      "outputs": [
        {
          "output_type": "stream",
          "name": "stdout",
          "text": [
            "Validation Accuracy is 0.23201211815198183\n",
            "Validation Accuracy is 0.23201211815198183\n",
            "Validation Accuracy is 0.23201211815198183\n",
            "Validation Accuracy is 0.23201211815198183\n"
          ]
        }
      ]
    },
    {
      "cell_type": "code",
      "source": [
        "print(classification_report(Y_val, y_pred_RFC1, target_names=target_names))"
      ],
      "metadata": {
        "colab": {
          "base_uri": "https://localhost:8080/"
        },
        "id": "2TWILf2117Dr",
        "outputId": "e54b789b-7217-4779-b72e-677073dfb5bf"
      },
      "execution_count": 372,
      "outputs": [
        {
          "output_type": "stream",
          "name": "stdout",
          "text": [
            "              precision    recall  f1-score   support\n",
            "\n",
            "     class 0       0.61      0.76      0.68       649\n",
            "     class 1       0.39      0.40      0.39       900\n",
            "     class 2       0.41      0.56      0.47       825\n",
            "     class 3       0.57      0.44      0.50       315\n",
            "     class 4       0.38      0.25      0.30       565\n",
            "     class 5       0.32      0.23      0.27       707\n",
            "\n",
            "    accuracy                           0.44      3961\n",
            "   macro avg       0.45      0.44      0.44      3961\n",
            "weighted avg       0.43      0.44      0.43      3961\n",
            "\n"
          ]
        }
      ]
    },
    {
      "cell_type": "markdown",
      "source": [
        "### Model 4"
      ],
      "metadata": {
        "id": "rfV-ODyLjulq"
      }
    },
    {
      "cell_type": "code",
      "source": [
        "from sklearn.naive_bayes import MultinomialNB as MNB"
      ],
      "metadata": {
        "id": "0GZxJcAujxCr"
      },
      "execution_count": 324,
      "outputs": []
    },
    {
      "cell_type": "code",
      "source": [
        "model = MNB()\n",
        "model.fit(X_train_vec1,Y_train)\n",
        "y_pred = model.predict(X_val_vec1)\n",
        "print(\"Val accuracy is:\",acc(Y_val, y_pred))"
      ],
      "metadata": {
        "colab": {
          "base_uri": "https://localhost:8080/"
        },
        "id": "C-SNv2ftj1yz",
        "outputId": "1e56566e-85ff-4286-986e-e525e74b420e"
      },
      "execution_count": 325,
      "outputs": [
        {
          "output_type": "stream",
          "name": "stdout",
          "text": [
            "Val accuracy is: 0.25902549861146174\n"
          ]
        }
      ]
    },
    {
      "cell_type": "code",
      "source": [
        "print(classification_report(Y_val, y_pred, target_names=target_names))"
      ],
      "metadata": {
        "colab": {
          "base_uri": "https://localhost:8080/"
        },
        "id": "14cGQ05q2A6D",
        "outputId": "05dae593-710b-4497-9bae-3fb055801dc2"
      },
      "execution_count": 373,
      "outputs": [
        {
          "output_type": "stream",
          "name": "stdout",
          "text": [
            "              precision    recall  f1-score   support\n",
            "\n",
            "     class 0       0.55      0.68      0.61       649\n",
            "     class 1       0.35      0.45      0.40       900\n",
            "     class 2       0.43      0.39      0.41       825\n",
            "     class 3       0.47      0.45      0.46       315\n",
            "     class 4       0.31      0.20      0.24       565\n",
            "     class 5       0.30      0.24      0.27       707\n",
            "\n",
            "    accuracy                           0.40      3961\n",
            "   macro avg       0.40      0.40      0.40      3961\n",
            "weighted avg       0.39      0.40      0.39      3961\n",
            "\n"
          ]
        }
      ]
    },
    {
      "cell_type": "markdown",
      "source": [
        "### Model 5"
      ],
      "metadata": {
        "id": "gm3t9ZDAmhKi"
      }
    },
    {
      "cell_type": "code",
      "source": [
        "from sklearn.discriminant_analysis import LinearDiscriminantAnalysis as LDA\n",
        "solver = ['svd', 'lsqr', 'eigen']\n",
        "for i in solver:\n",
        "    modelLDA = LDA(solver = i)\n",
        "    modelLDA.fit(X_train_vec1,Y_train)\n",
        "    y_pred = modelLDA.predict(X_val_vec1)\n",
        "    print(\"Val accuracy is:\",acc(Y_val, y_pred))"
      ],
      "metadata": {
        "colab": {
          "base_uri": "https://localhost:8080/"
        },
        "id": "TLXvAHyCmmz8",
        "outputId": "7fa2c48f-a69d-4dc3-9b34-2d72bc28109c"
      },
      "execution_count": 326,
      "outputs": [
        {
          "output_type": "stream",
          "name": "stdout",
          "text": [
            "Val accuracy is: 0.4034334763948498\n",
            "Val accuracy is: 0.4034334763948498\n",
            "Val accuracy is: 0.4034334763948498\n"
          ]
        }
      ]
    },
    {
      "cell_type": "code",
      "source": [
        "print(classification_report(Y_val, y_pred, target_names=target_names))"
      ],
      "metadata": {
        "colab": {
          "base_uri": "https://localhost:8080/"
        },
        "id": "wdKZpxh82EHO",
        "outputId": "6d190055-5598-4b1e-b336-bce135706a2f"
      },
      "execution_count": 374,
      "outputs": [
        {
          "output_type": "stream",
          "name": "stdout",
          "text": [
            "              precision    recall  f1-score   support\n",
            "\n",
            "     class 0       0.55      0.68      0.61       649\n",
            "     class 1       0.35      0.45      0.40       900\n",
            "     class 2       0.43      0.39      0.41       825\n",
            "     class 3       0.47      0.45      0.46       315\n",
            "     class 4       0.31      0.20      0.24       565\n",
            "     class 5       0.30      0.24      0.27       707\n",
            "\n",
            "    accuracy                           0.40      3961\n",
            "   macro avg       0.40      0.40      0.40      3961\n",
            "weighted avg       0.39      0.40      0.39      3961\n",
            "\n"
          ]
        }
      ]
    },
    {
      "cell_type": "markdown",
      "source": [
        "## Case 2 Smoothing"
      ],
      "metadata": {
        "id": "rYQ7gegVkYNJ"
      }
    },
    {
      "cell_type": "code",
      "source": [
        "vectorizer = TfidfVectorizer(smooth_idf=True,min_df=0.1, max_df = 0.9)"
      ],
      "metadata": {
        "id": "VzBCRxx_ku6u"
      },
      "execution_count": 375,
      "outputs": []
    },
    {
      "cell_type": "code",
      "source": [
        "X_train_vec1 = pd.DataFrame(vectorizer1.fit_transform(X_train['combined_text']).toarray())\n",
        "X_val_vec1 = pd.DataFrame(vectorizer1.transform(X_val['combined_text']).toarray())"
      ],
      "metadata": {
        "id": "EXTaKF7Dku6v"
      },
      "execution_count": 376,
      "outputs": []
    },
    {
      "cell_type": "code",
      "source": [
        "X_train_vec1.shape"
      ],
      "metadata": {
        "colab": {
          "base_uri": "https://localhost:8080/"
        },
        "id": "0CxYB1whtCYt",
        "outputId": "00b85f5c-4606-40da-81b3-4a1959dacb96"
      },
      "execution_count": 377,
      "outputs": [
        {
          "output_type": "execute_result",
          "data": {
            "text/plain": [
              "(15840, 29)"
            ]
          },
          "metadata": {},
          "execution_count": 377
        }
      ]
    },
    {
      "cell_type": "code",
      "source": [
        "X_val_vec1.shape"
      ],
      "metadata": {
        "colab": {
          "base_uri": "https://localhost:8080/"
        },
        "id": "TsgBTiCmtEz6",
        "outputId": "d7975fb0-c315-4f95-eb86-0a5158eececf"
      },
      "execution_count": 378,
      "outputs": [
        {
          "output_type": "execute_result",
          "data": {
            "text/plain": [
              "(3961, 29)"
            ]
          },
          "metadata": {},
          "execution_count": 378
        }
      ]
    },
    {
      "cell_type": "code",
      "source": [
        "X_train_vec1[29] = X_train.iloc[:,1].values\n",
        "X_train_vec1[30] = X_train.iloc[:,2].values\n",
        "X_train_vec1[31] = X_train.iloc[:,3].values\n",
        "X_val_vec1[29] = X_val.iloc[:,1].values\n",
        "X_val_vec1[30] = X_val.iloc[:,2].values\n",
        "X_val_vec1[31] = X_val.iloc[:,3].values"
      ],
      "metadata": {
        "id": "aZwodS1kku6v"
      },
      "execution_count": 379,
      "outputs": []
    },
    {
      "cell_type": "code",
      "source": [
        "Y.nunique()"
      ],
      "metadata": {
        "colab": {
          "base_uri": "https://localhost:8080/"
        },
        "outputId": "def30192-9a90-4230-c81b-bf60e1884569",
        "id": "95OluovBku6x"
      },
      "execution_count": 380,
      "outputs": [
        {
          "output_type": "execute_result",
          "data": {
            "text/plain": [
              "6"
            ]
          },
          "metadata": {},
          "execution_count": 380
        }
      ]
    },
    {
      "cell_type": "code",
      "source": [
        "from sklearn.metrics import accuracy_score as acc"
      ],
      "metadata": {
        "id": "r0m7seCYku6x"
      },
      "execution_count": 381,
      "outputs": []
    },
    {
      "cell_type": "markdown",
      "source": [
        "### Model1"
      ],
      "metadata": {
        "id": "YhGr6rGHku6y"
      }
    },
    {
      "cell_type": "code",
      "source": [
        "from lightgbm import LGBMClassifier as LGBM\n",
        "n_estimators = np.arange(start= 40, stop = 150, step = 20)\n",
        "# n_estimators = np.arange(start= 100, stop = 1500, step = 250)\n",
        "accuracies = []\n",
        "train_acc = []\n",
        "for i in n_estimators:\n",
        "    lgbm = LGBM(random_state = 1,n_estimators=i,objective='multiclass',num_class = 6,learning_rate=0.075)\n",
        "    # X_train_vec1.fillna(0,inplace=True)\n",
        "    lgbm.fit(X_train_vec1,Y_train)\n",
        "    y_pred_lgbm1 = lgbm.predict(X_val_vec1)\n",
        "    print(f\"Validation Accuracy is {acc(Y_val,y_pred_lgbm1)} for n_estimators: {i}\")\n",
        "    accuracies.append(acc(Y_val,y_pred_lgbm1))\n",
        "    train_acc.append(acc(Y_train,lgbm.predict(X_train_vec1)))"
      ],
      "metadata": {
        "colab": {
          "base_uri": "https://localhost:8080/"
        },
        "outputId": "efec9e98-9404-4b29-fa27-54bb3d34acf1",
        "id": "gniC8JcJku6y"
      },
      "execution_count": 334,
      "outputs": [
        {
          "output_type": "stream",
          "name": "stdout",
          "text": [
            "Validation Accuracy is 0.4493814693259278 for n_estimators: 40\n",
            "Validation Accuracy is 0.45140116132289826 for n_estimators: 60\n",
            "Validation Accuracy is 0.45114869982327693 for n_estimators: 80\n",
            "Validation Accuracy is 0.4466043928300934 for n_estimators: 100\n",
            "Validation Accuracy is 0.4433223933350164 for n_estimators: 120\n",
            "Validation Accuracy is 0.44256500883615246 for n_estimators: 140\n"
          ]
        }
      ]
    },
    {
      "cell_type": "code",
      "source": [
        "import matplotlib.pyplot as plt\n",
        "plt.plot(n_estimators,accuracies)\n",
        "plt.plot(n_estimators,train_acc)\n",
        "plt.title('LightGBM')\n",
        "plt.xlabel('n_estimators')\n",
        "plt.ylabel('accuracies')\n",
        "plt.legend(['val_acc','train_acc'])"
      ],
      "metadata": {
        "colab": {
          "base_uri": "https://localhost:8080/",
          "height": 314
        },
        "outputId": "11ebca62-dd3d-43b6-c1df-fcd4fa4d2667",
        "id": "99iOX76uku6z"
      },
      "execution_count": 335,
      "outputs": [
        {
          "output_type": "execute_result",
          "data": {
            "text/plain": [
              "<matplotlib.legend.Legend at 0x7fa9f3cabb90>"
            ]
          },
          "metadata": {},
          "execution_count": 335
        },
        {
          "output_type": "display_data",
          "data": {
            "text/plain": [
              "<Figure size 432x288 with 1 Axes>"
            ],
            "image/png": "[encoded data removed]"
          },
          "metadata": {
            "needs_background": "light"
          }
        }
      ]
    },
    {
      "cell_type": "code",
      "source": [
        "print(classification_report(Y_val, y_pred_lgbm1, target_names=target_names))"
      ],
      "metadata": {
        "id": "BBvQ0d5b2Ivy"
      },
      "execution_count": null,
      "outputs": []
    },
    {
      "cell_type": "markdown",
      "source": [
        "### Model 2"
      ],
      "metadata": {
        "id": "PcNHtXh0ku6z"
      }
    },
    {
      "cell_type": "code",
      "source": [
        "from sklearn.svm import SVC\n",
        "SVC = SVC(random_state = 1)\n",
        "SVC.fit(X_train_vec1,Y_train)\n",
        "y_pred_SVC1 = SVC.predict(X_val_vec1)"
      ],
      "metadata": {
        "id": "iBqFefbvku6z"
      },
      "execution_count": 336,
      "outputs": []
    },
    {
      "cell_type": "code",
      "source": [
        "print(f\"Validation Accuracy is {acc(Y_val,y_pred_SVC1)}\")"
      ],
      "metadata": {
        "colab": {
          "base_uri": "https://localhost:8080/"
        },
        "outputId": "516294c1-59d4-40bf-f22d-139684904fb6",
        "id": "-3j3hu-bku6z"
      },
      "execution_count": 337,
      "outputs": [
        {
          "output_type": "stream",
          "name": "stdout",
          "text": [
            "Validation Accuracy is 0.23201211815198183\n"
          ]
        }
      ]
    },
    {
      "cell_type": "code",
      "source": [
        "print(classification_report(Y_val, y_pred_SVC1, target_names=target_names))"
      ],
      "metadata": {
        "id": "-CH4KRZW2L4I"
      },
      "execution_count": null,
      "outputs": []
    },
    {
      "cell_type": "markdown",
      "source": [
        "### Model 3"
      ],
      "metadata": {
        "id": "jgNx5lXGku6z"
      }
    },
    {
      "cell_type": "code",
      "source": [
        "from sklearn.ensemble import RandomForestClassifier as rfc\n",
        "accuraciesRFC = []\n",
        "n_estimators = [30,50,70,80,100,120,150]\n",
        "for i in n_estimators:\n",
        "    RFC = rfc(random_state = 1,n_estimators=i)\n",
        "    RFC.fit(X_train_vec1,Y_train)\n",
        "    y_pred_RFC1 = RFC.predict(X_val_vec1)\n",
        "    print(f\"Validation Accuracy is {acc(Y_val,y_pred_SVC1)}\")\n",
        "    accuraciesRFC.append(acc(Y_val,y_pred_SVC1))"
      ],
      "metadata": {
        "colab": {
          "base_uri": "https://localhost:8080/"
        },
        "outputId": "502bdf82-a219-4b94-e426-2787f473641a",
        "id": "pOP_QgIEku60"
      },
      "execution_count": 338,
      "outputs": [
        {
          "output_type": "stream",
          "name": "stdout",
          "text": [
            "Validation Accuracy is 0.23201211815198183\n",
            "Validation Accuracy is 0.23201211815198183\n",
            "Validation Accuracy is 0.23201211815198183\n",
            "Validation Accuracy is 0.23201211815198183\n",
            "Validation Accuracy is 0.23201211815198183\n",
            "Validation Accuracy is 0.23201211815198183\n",
            "Validation Accuracy is 0.23201211815198183\n"
          ]
        }
      ]
    },
    {
      "cell_type": "code",
      "source": [
        "print(classification_report(Y_val, y_pred_RFC1, target_names=target_names))"
      ],
      "metadata": {
        "id": "A43c36jZ2R-k"
      },
      "execution_count": null,
      "outputs": []
    },
    {
      "cell_type": "markdown",
      "source": [
        "### Model 4"
      ],
      "metadata": {
        "id": "3dUoR3o1ku60"
      }
    },
    {
      "cell_type": "code",
      "source": [
        "from sklearn.naive_bayes import MultinomialNB as MNB"
      ],
      "metadata": {
        "id": "6rbukXwZku60"
      },
      "execution_count": 339,
      "outputs": []
    },
    {
      "cell_type": "code",
      "source": [
        "model = MNB()\n",
        "model.fit(X_train_vec1,Y_train)\n",
        "y_pred = model.predict(X_val_vec1)\n",
        "print(\"Val accuracy is:\",acc(Y_val, y_pred))"
      ],
      "metadata": {
        "colab": {
          "base_uri": "https://localhost:8080/"
        },
        "outputId": "de5732ae-1b57-4f92-d248-16a8c61358bf",
        "id": "1A8oz48Bku60"
      },
      "execution_count": 340,
      "outputs": [
        {
          "output_type": "stream",
          "name": "stdout",
          "text": [
            "Val accuracy is: 0.25902549861146174\n"
          ]
        }
      ]
    },
    {
      "cell_type": "code",
      "source": [
        "print(classification_report(Y_val, y_pred, target_names=target_names))"
      ],
      "metadata": {
        "id": "AiG1M08w2Ogq"
      },
      "execution_count": null,
      "outputs": []
    },
    {
      "cell_type": "markdown",
      "source": [
        "### Model 5"
      ],
      "metadata": {
        "id": "ygW6y9gmlur6"
      }
    },
    {
      "cell_type": "code",
      "source": [
        "from sklearn.discriminant_analysis import LinearDiscriminantAnalysis as LDA"
      ],
      "metadata": {
        "id": "V0FITONQlsM1"
      },
      "execution_count": 341,
      "outputs": []
    },
    {
      "cell_type": "code",
      "source": [
        "solver = ['svd', 'lsqr', 'eigen']\n",
        "for i in solver:\n",
        "    modelLDA = LDA(solver = i)\n",
        "    modelLDA.fit(X_train_vec1,Y_train)\n",
        "    y_pred = modelLDA.predict(X_val_vec1)\n",
        "    print(\"Val accuracy is:\",acc(Y_val, y_pred))"
      ],
      "metadata": {
        "colab": {
          "base_uri": "https://localhost:8080/"
        },
        "id": "9kace9Cul5PF",
        "outputId": "5b902a00-68d9-4efb-ebae-02bf8945abb1"
      },
      "execution_count": 342,
      "outputs": [
        {
          "output_type": "stream",
          "name": "stdout",
          "text": [
            "Val accuracy is: 0.4034334763948498\n",
            "Val accuracy is: 0.4034334763948498\n",
            "Val accuracy is: 0.4034334763948498\n"
          ]
        }
      ]
    },
    {
      "cell_type": "code",
      "source": [
        "print(classification_report(Y_val, y_pred, target_names=target_names))"
      ],
      "metadata": {
        "id": "Gj0lIGh92TJo"
      },
      "execution_count": null,
      "outputs": []
    },
    {
      "cell_type": "markdown",
      "source": [
        "# Final Model of the pipeline"
      ],
      "metadata": {
        "id": "iQDut6Gcm6oS"
      }
    },
    {
      "cell_type": "code",
      "source": [
        "vectorizer = TfidfVectorizer(smooth_idf=True,min_df=0.1, max_df = 0.9)"
      ],
      "metadata": {
        "id": "alquoyoTne4N"
      },
      "execution_count": 343,
      "outputs": []
    },
    {
      "cell_type": "code",
      "source": [
        "X_train_vec1 = pd.DataFrame(vectorizer.fit_transform(X['combined_text']).toarray())"
      ],
      "metadata": {
        "id": "nz4HL38jne4N"
      },
      "execution_count": 344,
      "outputs": []
    },
    {
      "cell_type": "code",
      "source": [
        "X_train_vec1.shape"
      ],
      "metadata": {
        "colab": {
          "base_uri": "https://localhost:8080/"
        },
        "id": "-iWVr8X4nrJp",
        "outputId": "fb0983d4-d128-4142-b940-0d094dc1c96c"
      },
      "execution_count": 345,
      "outputs": [
        {
          "output_type": "execute_result",
          "data": {
            "text/plain": [
              "(19801, 29)"
            ]
          },
          "metadata": {},
          "execution_count": 345
        }
      ]
    },
    {
      "cell_type": "code",
      "source": [
        "X_train_vec1[29] = X.iloc[:,1].values\n",
        "X_train_vec1[30] = X.iloc[:,2].values\n",
        "X_train_vec1[30] = X.iloc[:,3].values\n",
        "# X_val[28] = X_val.iloc[:,1].values\n",
        "# X_val[29] = X_val.iloc[:,2].values"
      ],
      "metadata": {
        "id": "61pkaaTjne4N"
      },
      "execution_count": 346,
      "outputs": []
    },
    {
      "cell_type": "code",
      "source": [
        "lgbm = LGBM(random_state = 1,n_estimators=60,objective='multiclass',num_class = 6,learning_rate=0.075)"
      ],
      "metadata": {
        "id": "rbGcjATRnRkf"
      },
      "execution_count": 347,
      "outputs": []
    },
    {
      "cell_type": "code",
      "source": [
        "lgbm.fit(X_train_vec1,Y)"
      ],
      "metadata": {
        "colab": {
          "base_uri": "https://localhost:8080/"
        },
        "id": "4jMmPejqodZJ",
        "outputId": "fba38019-8d19-4e2b-c405-9c415c8a4a9c"
      },
      "execution_count": 348,
      "outputs": [
        {
          "output_type": "execute_result",
          "data": {
            "text/plain": [
              "LGBMClassifier(learning_rate=0.075, n_estimators=60, num_class=6,\n",
              "               objective='multiclass', random_state=1)"
            ]
          },
          "metadata": {},
          "execution_count": 348
        }
      ]
    },
    {
      "cell_type": "code",
      "source": [
        "lgbm.get_params()"
      ],
      "metadata": {
        "colab": {
          "base_uri": "https://localhost:8080/"
        },
        "id": "-2QyeTKdoUFk",
        "outputId": "21695558-0cb2-4353-a203-41730d740be5"
      },
      "execution_count": 349,
      "outputs": [
        {
          "output_type": "execute_result",
          "data": {
            "text/plain": [
              "{'boosting_type': 'gbdt',\n",
              " 'class_weight': None,\n",
              " 'colsample_bytree': 1.0,\n",
              " 'importance_type': 'split',\n",
              " 'learning_rate': 0.075,\n",
              " 'max_depth': -1,\n",
              " 'min_child_samples': 20,\n",
              " 'min_child_weight': 0.001,\n",
              " 'min_split_gain': 0.0,\n",
              " 'n_estimators': 60,\n",
              " 'n_jobs': -1,\n",
              " 'num_class': 6,\n",
              " 'num_leaves': 31,\n",
              " 'objective': 'multiclass',\n",
              " 'random_state': 1,\n",
              " 'reg_alpha': 0.0,\n",
              " 'reg_lambda': 0.0,\n",
              " 'silent': True,\n",
              " 'subsample': 1.0,\n",
              " 'subsample_for_bin': 200000,\n",
              " 'subsample_freq': 0}"
            ]
          },
          "metadata": {},
          "execution_count": 349
        }
      ]
    }
  ]
}